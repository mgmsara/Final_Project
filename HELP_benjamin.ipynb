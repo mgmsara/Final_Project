{
 "cells": [
  {
   "cell_type": "code",
   "execution_count": 1,
   "id": "f936c4fb",
   "metadata": {},
   "outputs": [
    {
     "name": "stdout",
     "output_type": "stream",
     "text": [
      "Requirement already satisfied: textblob in /Users/saori/opt/anaconda3/lib/python3.9/site-packages (0.17.1)\n",
      "Requirement already satisfied: nltk>=3.1 in /Users/saori/opt/anaconda3/lib/python3.9/site-packages (from textblob) (3.7)\n",
      "Requirement already satisfied: tqdm in /Users/saori/opt/anaconda3/lib/python3.9/site-packages (from nltk>=3.1->textblob) (4.64.0)\n",
      "Requirement already satisfied: regex>=2021.8.3 in /Users/saori/opt/anaconda3/lib/python3.9/site-packages (from nltk>=3.1->textblob) (2022.3.15)\n",
      "Requirement already satisfied: joblib in /Users/saori/opt/anaconda3/lib/python3.9/site-packages (from nltk>=3.1->textblob) (1.1.0)\n",
      "Requirement already satisfied: click in /Users/saori/opt/anaconda3/lib/python3.9/site-packages (from nltk>=3.1->textblob) (8.0.4)\n",
      "Note: you may need to restart the kernel to use updated packages.\n"
     ]
    }
   ],
   "source": [
    "pip install textblob"
   ]
  },
  {
   "cell_type": "code",
   "execution_count": 2,
   "id": "5c3f34bc",
   "metadata": {},
   "outputs": [
    {
     "name": "stdout",
     "output_type": "stream",
     "text": [
      "Requirement already satisfied: tweepy in /Users/saori/opt/anaconda3/lib/python3.9/site-packages (4.12.1)\n",
      "Requirement already satisfied: requests-oauthlib<2,>=1.2.0 in /Users/saori/opt/anaconda3/lib/python3.9/site-packages (from tweepy) (1.3.1)\n",
      "Requirement already satisfied: requests<3,>=2.27.0 in /Users/saori/opt/anaconda3/lib/python3.9/site-packages (from tweepy) (2.27.1)\n",
      "Requirement already satisfied: oauthlib<4,>=3.2.0 in /Users/saori/opt/anaconda3/lib/python3.9/site-packages (from tweepy) (3.2.2)\n",
      "Requirement already satisfied: certifi>=2017.4.17 in /Users/saori/opt/anaconda3/lib/python3.9/site-packages (from requests<3,>=2.27.0->tweepy) (2021.10.8)\n",
      "Requirement already satisfied: urllib3<1.27,>=1.21.1 in /Users/saori/opt/anaconda3/lib/python3.9/site-packages (from requests<3,>=2.27.0->tweepy) (1.26.9)\n",
      "Requirement already satisfied: idna<4,>=2.5 in /Users/saori/opt/anaconda3/lib/python3.9/site-packages (from requests<3,>=2.27.0->tweepy) (3.3)\n",
      "Requirement already satisfied: charset-normalizer~=2.0.0 in /Users/saori/opt/anaconda3/lib/python3.9/site-packages (from requests<3,>=2.27.0->tweepy) (2.0.4)\n",
      "Note: you may need to restart the kernel to use updated packages.\n"
     ]
    }
   ],
   "source": [
    "pip install tweepy"
   ]
  },
  {
   "cell_type": "code",
   "execution_count": 3,
   "id": "d2efef10",
   "metadata": {},
   "outputs": [
    {
     "name": "stdout",
     "output_type": "stream",
     "text": [
      "Requirement already satisfied: pycountry in /Users/saori/opt/anaconda3/lib/python3.9/site-packages (22.3.5)\n",
      "Requirement already satisfied: setuptools in /Users/saori/opt/anaconda3/lib/python3.9/site-packages (from pycountry) (61.2.0)\n",
      "Note: you may need to restart the kernel to use updated packages.\n"
     ]
    }
   ],
   "source": [
    "pip install pycountry"
   ]
  },
  {
   "cell_type": "code",
   "execution_count": 4,
   "id": "ac580dda",
   "metadata": {},
   "outputs": [
    {
     "name": "stdout",
     "output_type": "stream",
     "text": [
      "Requirement already satisfied: langdetect in /Users/saori/opt/anaconda3/lib/python3.9/site-packages (1.0.9)\n",
      "Requirement already satisfied: six in /Users/saori/opt/anaconda3/lib/python3.9/site-packages (from langdetect) (1.16.0)\n",
      "Note: you may need to restart the kernel to use updated packages.\n"
     ]
    }
   ],
   "source": [
    "pip install langdetect"
   ]
  },
  {
   "cell_type": "code",
   "execution_count": 5,
   "id": "6e37aece",
   "metadata": {},
   "outputs": [
    {
     "name": "stdout",
     "output_type": "stream",
     "text": [
      "Requirement already satisfied: searchtweets in /Users/saori/opt/anaconda3/lib/python3.9/site-packages (1.7.6)\n",
      "Requirement already satisfied: tweet-parser in /Users/saori/opt/anaconda3/lib/python3.9/site-packages (from searchtweets) (1.13.2)\n",
      "Requirement already satisfied: pyyaml in /Users/saori/opt/anaconda3/lib/python3.9/site-packages (from searchtweets) (6.0)\n",
      "Requirement already satisfied: requests in /Users/saori/opt/anaconda3/lib/python3.9/site-packages (from searchtweets) (2.27.1)\n",
      "Requirement already satisfied: certifi>=2017.4.17 in /Users/saori/opt/anaconda3/lib/python3.9/site-packages (from requests->searchtweets) (2021.10.8)\n",
      "Requirement already satisfied: charset-normalizer~=2.0.0 in /Users/saori/opt/anaconda3/lib/python3.9/site-packages (from requests->searchtweets) (2.0.4)\n",
      "Requirement already satisfied: urllib3<1.27,>=1.21.1 in /Users/saori/opt/anaconda3/lib/python3.9/site-packages (from requests->searchtweets) (1.26.9)\n",
      "Requirement already satisfied: idna<4,>=2.5 in /Users/saori/opt/anaconda3/lib/python3.9/site-packages (from requests->searchtweets) (3.3)\n",
      "Note: you may need to restart the kernel to use updated packages.\n"
     ]
    }
   ],
   "source": [
    "pip install searchtweets\n"
   ]
  },
  {
   "cell_type": "code",
   "execution_count": 6,
   "id": "f09811cb",
   "metadata": {},
   "outputs": [
    {
     "name": "stdout",
     "output_type": "stream",
     "text": [
      "Requirement already satisfied: matplotlib in /Users/saori/opt/anaconda3/lib/python3.9/site-packages (3.5.1)\n",
      "Requirement already satisfied: kiwisolver>=1.0.1 in /Users/saori/opt/anaconda3/lib/python3.9/site-packages (from matplotlib) (1.3.2)\n",
      "Requirement already satisfied: fonttools>=4.22.0 in /Users/saori/opt/anaconda3/lib/python3.9/site-packages (from matplotlib) (4.25.0)\n",
      "Requirement already satisfied: pyparsing>=2.2.1 in /Users/saori/opt/anaconda3/lib/python3.9/site-packages (from matplotlib) (3.0.4)\n",
      "Requirement already satisfied: packaging>=20.0 in /Users/saori/opt/anaconda3/lib/python3.9/site-packages (from matplotlib) (21.3)\n",
      "Requirement already satisfied: python-dateutil>=2.7 in /Users/saori/opt/anaconda3/lib/python3.9/site-packages (from matplotlib) (2.8.2)\n",
      "Requirement already satisfied: numpy>=1.17 in /Users/saori/opt/anaconda3/lib/python3.9/site-packages (from matplotlib) (1.21.5)\n",
      "Requirement already satisfied: cycler>=0.10 in /Users/saori/opt/anaconda3/lib/python3.9/site-packages (from matplotlib) (0.11.0)\n",
      "Requirement already satisfied: pillow>=6.2.0 in /Users/saori/opt/anaconda3/lib/python3.9/site-packages (from matplotlib) (9.0.1)\n",
      "Requirement already satisfied: six>=1.5 in /Users/saori/opt/anaconda3/lib/python3.9/site-packages (from python-dateutil>=2.7->matplotlib) (1.16.0)\n",
      "Note: you may need to restart the kernel to use updated packages.\n"
     ]
    }
   ],
   "source": [
    "pip install matplotlib\n"
   ]
  },
  {
   "cell_type": "code",
   "execution_count": 7,
   "id": "0e55bca0",
   "metadata": {},
   "outputs": [],
   "source": [
    "from textblob import TextBlob\n",
    "import sys\n",
    "import tweepy\n",
    "import matplotlib.pyplot as plt\n",
    "import pandas as pd\n",
    "import numpy as np\n",
    "import os\n",
    "import nltk\n",
    "import pycountry\n",
    "import re\n",
    "import string\n",
    "\n",
    "from wordcloud import WordCloud, STOPWORDS\n",
    "from PIL import Image\n",
    "from nltk.sentiment.vader import SentimentIntensityAnalyzer\n",
    "from langdetect import detect\n",
    "from nltk.stem import SnowballStemmer\n",
    "from sklearn.feature_extraction.text import CountVectorizer\n"
   ]
  },
  {
   "cell_type": "code",
   "execution_count": 8,
   "id": "e6c580e6",
   "metadata": {},
   "outputs": [],
   "source": [
    "api_key = 'vcCmOETCASdUd0CpAdCtAT1H7'\n",
    "\n",
    "api_secret = '8KEdeRxbIiQdRzC5oQFpJreC6b87I3LN2Sq6cwLXlkBB1aEGTw'\n",
    "\n",
    "bearer_token = 'AAAAAAAAAAAAAAAAAAAAAKnFRAEAAAAA0WTW5LZ0FZm0YaTCHQpjYW2BzmI%3DAis5txxF8CKfT5UfsbcG9UznM61bmjCuN6FqlZwqJIjycjw9Hl'\n",
    "\n",
    "access_token = '1410231389220376584-B2PrnZFEXKU6coWb3AEWGPODV4YJ9F'\n",
    "\n",
    "access_token_secret = 'PPwZ8sh80xzCPochgHytGCzk3USP2RQkmUeRPqq2LqiHR'\n",
    "\n",
    "auth = tweepy.OAuthHandler(api_key, api_secret)\n",
    "auth.set_access_token(access_token, access_token_secret)\n",
    "api = tweepy.API(auth)"
   ]
  },
  {
   "cell_type": "markdown",
   "id": "ce65dab3",
   "metadata": {},
   "source": [
    "About scoring: https://github.com/cjhutto/vaderSentiment#about-the-scoring"
   ]
  },
  {
   "cell_type": "markdown",
   "id": "09f3c593",
   "metadata": {},
   "source": [
    "#Sentiment Analysis example with TEXT BLOB AND SENTIMENT INTENSE ANALAYSER\n",
    "\n",
    "def percentage(part,whole):\n",
    "    return 100 * float(part)/float(whole) \n",
    "\n",
    "keyword = 'tesla'\n",
    "noOfTweet = 1\n",
    "\n",
    "\n",
    "tweets = tweepy.Cursor(api.search_tweets, q=keyword).items(noOfTweet)\n",
    "positive  = 0\n",
    "negative = 0\n",
    "neutral = 0\n",
    "polarity = 0\n",
    "tweet_list = []\n",
    "neutral_list = []\n",
    "negative_list = []\n",
    "positive_list = []\n",
    "\n",
    "rows = []\n",
    "\n",
    "for tweet in tweets:\n",
    "\n",
    "    row = {}\n",
    "    row['text'] = tweet.text\n",
    "    row['date'] = tweet.created_at\n",
    "    row['id'] = tweet.id\n",
    "    row['location'] = tweet.user.location\n",
    "    \n",
    "    \n",
    "    #print(tweet.text)\n",
    "    tweet_list.append(tweet.text)\n",
    "    analysis = TextBlob(tweet.text)\n",
    "    \n",
    "    row['polarity'] = analysis.sentiment.polarity\n",
    "    row['subjectivity'] = analysis.sentiment.subjectivity\n",
    "    print(tweet.text)\n",
    "    print('TextBlob numbers: ', analysis.sentiment)\n",
    "    \n",
    "    score = SentimentIntensityAnalyzer().polarity_scores(tweet.text)\n",
    "    neg = score['neg']\n",
    "    neu = score['neu']\n",
    "    pos = score['pos']\n",
    "    comp = score['compound']\n",
    "\n",
    "    print('SentimentIntensityAnalyzer numbers:', score)\n",
    "    break\n",
    "    rows.append(row)\n",
    "\n",
    "print(rows)\n",
    "            \n"
   ]
  },
  {
   "cell_type": "code",
   "execution_count": 44,
   "id": "0cc6626d",
   "metadata": {},
   "outputs": [
    {
     "name": "stdout",
     "output_type": "stream",
     "text": [
      "Status(_api=<tweepy.api.API object at 0x7f88485fb400>, _json={'created_at': 'Sun Dec 11 18:20:50 +0000 2022', 'id': 1602005505194725378, 'id_str': '1602005505194725378', 'text': 'RT @Esqueer_: Twitter is a Tesla fire. https://t.co/tzdFRBmBfP', 'truncated': False, 'entities': {'hashtags': [], 'symbols': [], 'user_mentions': [{'screen_name': 'Esqueer_', 'name': 'Alejandra Caraballo', 'id': 409389074, 'id_str': '409389074', 'indices': [3, 12]}], 'urls': [], 'media': [{'id': 1602004336665673729, 'id_str': '1602004336665673729', 'indices': [39, 62], 'media_url': 'http://pbs.twimg.com/media/Fjt2dNeXwAEcmcn.jpg', 'media_url_https': 'https://pbs.twimg.com/media/Fjt2dNeXwAEcmcn.jpg', 'url': 'https://t.co/tzdFRBmBfP', 'display_url': 'pic.twitter.com/tzdFRBmBfP', 'expanded_url': 'https://twitter.com/Esqueer_/status/1602005410357059584/photo/1', 'type': 'photo', 'sizes': {'thumb': {'w': 150, 'h': 150, 'resize': 'crop'}, 'medium': {'w': 1050, 'h': 591, 'resize': 'fit'}, 'small': {'w': 680, 'h': 383, 'resize': 'fit'}, 'large': {'w': 1050, 'h': 591, 'resize': 'fit'}}, 'source_status_id': 1602005410357059584, 'source_status_id_str': '1602005410357059584', 'source_user_id': 409389074, 'source_user_id_str': '409389074'}]}, 'extended_entities': {'media': [{'id': 1602004336665673729, 'id_str': '1602004336665673729', 'indices': [39, 62], 'media_url': 'http://pbs.twimg.com/media/Fjt2dNeXwAEcmcn.jpg', 'media_url_https': 'https://pbs.twimg.com/media/Fjt2dNeXwAEcmcn.jpg', 'url': 'https://t.co/tzdFRBmBfP', 'display_url': 'pic.twitter.com/tzdFRBmBfP', 'expanded_url': 'https://twitter.com/Esqueer_/status/1602005410357059584/photo/1', 'type': 'photo', 'sizes': {'thumb': {'w': 150, 'h': 150, 'resize': 'crop'}, 'medium': {'w': 1050, 'h': 591, 'resize': 'fit'}, 'small': {'w': 680, 'h': 383, 'resize': 'fit'}, 'large': {'w': 1050, 'h': 591, 'resize': 'fit'}}, 'source_status_id': 1602005410357059584, 'source_status_id_str': '1602005410357059584', 'source_user_id': 409389074, 'source_user_id_str': '409389074'}]}, 'metadata': {'iso_language_code': 'en', 'result_type': 'recent'}, 'source': '<a href=\"http://twitter.com/download/iphone\" rel=\"nofollow\">Twitter for iPhone</a>', 'in_reply_to_status_id': None, 'in_reply_to_status_id_str': None, 'in_reply_to_user_id': None, 'in_reply_to_user_id_str': None, 'in_reply_to_screen_name': None, 'user': {'id': 16779119, 'id_str': '16779119', 'name': 'Anne M. 🦇', 'screen_name': 'nongenderous', 'location': '', 'description': 'Intersectional feminist. Medlem i @Raudt. Uføretrygdet. #ActuallyAutistic #abolishcapitalism #freepalestine #abolishallborders', 'url': None, 'entities': {'description': {'urls': []}}, 'protected': False, 'followers_count': 1494, 'friends_count': 2590, 'listed_count': 103, 'created_at': 'Wed Oct 15 10:56:18 +0000 2008', 'favourites_count': 10198, 'utc_offset': None, 'time_zone': None, 'geo_enabled': False, 'verified': False, 'statuses_count': 175123, 'lang': None, 'contributors_enabled': False, 'is_translator': False, 'is_translation_enabled': False, 'profile_background_color': '0077FC', 'profile_background_image_url': 'http://abs.twimg.com/images/themes/theme3/bg.gif', 'profile_background_image_url_https': 'https://abs.twimg.com/images/themes/theme3/bg.gif', 'profile_background_tile': True, 'profile_image_url': 'http://pbs.twimg.com/profile_images/1474307687030697986/UQVJXiEb_normal.jpg', 'profile_image_url_https': 'https://pbs.twimg.com/profile_images/1474307687030697986/UQVJXiEb_normal.jpg', 'profile_banner_url': 'https://pbs.twimg.com/profile_banners/16779119/1373482374', 'profile_link_color': '0077FC', 'profile_sidebar_border_color': 'FFFFFF', 'profile_sidebar_fill_color': '004DA3', 'profile_text_color': '00162E', 'profile_use_background_image': True, 'has_extended_profile': True, 'default_profile': False, 'default_profile_image': False, 'following': False, 'follow_request_sent': False, 'notifications': False, 'translator_type': 'none', 'withheld_in_countries': []}, 'geo': None, 'coordinates': None, 'place': None, 'contributors': None, 'retweeted_status': {'created_at': 'Sun Dec 11 18:20:28 +0000 2022', 'id': 1602005410357059584, 'id_str': '1602005410357059584', 'text': 'Twitter is a Tesla fire. https://t.co/tzdFRBmBfP', 'truncated': False, 'entities': {'hashtags': [], 'symbols': [], 'user_mentions': [], 'urls': [], 'media': [{'id': 1602004336665673729, 'id_str': '1602004336665673729', 'indices': [25, 48], 'media_url': 'http://pbs.twimg.com/media/Fjt2dNeXwAEcmcn.jpg', 'media_url_https': 'https://pbs.twimg.com/media/Fjt2dNeXwAEcmcn.jpg', 'url': 'https://t.co/tzdFRBmBfP', 'display_url': 'pic.twitter.com/tzdFRBmBfP', 'expanded_url': 'https://twitter.com/Esqueer_/status/1602005410357059584/photo/1', 'type': 'photo', 'sizes': {'thumb': {'w': 150, 'h': 150, 'resize': 'crop'}, 'medium': {'w': 1050, 'h': 591, 'resize': 'fit'}, 'small': {'w': 680, 'h': 383, 'resize': 'fit'}, 'large': {'w': 1050, 'h': 591, 'resize': 'fit'}}}]}, 'extended_entities': {'media': [{'id': 1602004336665673729, 'id_str': '1602004336665673729', 'indices': [25, 48], 'media_url': 'http://pbs.twimg.com/media/Fjt2dNeXwAEcmcn.jpg', 'media_url_https': 'https://pbs.twimg.com/media/Fjt2dNeXwAEcmcn.jpg', 'url': 'https://t.co/tzdFRBmBfP', 'display_url': 'pic.twitter.com/tzdFRBmBfP', 'expanded_url': 'https://twitter.com/Esqueer_/status/1602005410357059584/photo/1', 'type': 'photo', 'sizes': {'thumb': {'w': 150, 'h': 150, 'resize': 'crop'}, 'medium': {'w': 1050, 'h': 591, 'resize': 'fit'}, 'small': {'w': 680, 'h': 383, 'resize': 'fit'}, 'large': {'w': 1050, 'h': 591, 'resize': 'fit'}}}]}, 'metadata': {'iso_language_code': 'en', 'result_type': 'recent'}, 'source': '<a href=\"https://mobile.twitter.com\" rel=\"nofollow\">Twitter Web App</a>', 'in_reply_to_status_id': None, 'in_reply_to_status_id_str': None, 'in_reply_to_user_id': None, 'in_reply_to_user_id_str': None, 'in_reply_to_screen_name': None, 'user': {'id': 409389074, 'id_str': '409389074', 'name': 'Alejandra Caraballo', 'screen_name': 'Esqueer_', 'location': 'Cambridge, MA', 'description': \"Wise Latina 🇵🇷. Clinical Instructor, Harvard Law Cyberlaw Clinic. Gender & Tech. 'Alleged expert' - Elon Musk. Bylines @Wired, @Slate. Views = my own.\", 'url': 'https://t.co/GygTwNKf8d', 'entities': {'url': {'urls': [{'url': 'https://t.co/GygTwNKf8d', 'expanded_url': 'https://www.buzzsprout.com/1949544', 'display_url': 'buzzsprout.com/1949544', 'indices': [0, 23]}]}, 'description': {'urls': []}}, 'protected': False, 'followers_count': 76390, 'friends_count': 1204, 'listed_count': 411, 'created_at': 'Thu Nov 10 17:29:14 +0000 2011', 'favourites_count': 45141, 'utc_offset': None, 'time_zone': None, 'geo_enabled': True, 'verified': True, 'statuses_count': 16019, 'lang': None, 'contributors_enabled': False, 'is_translator': False, 'is_translation_enabled': False, 'profile_background_color': 'C0DEED', 'profile_background_image_url': 'http://abs.twimg.com/images/themes/theme1/bg.png', 'profile_background_image_url_https': 'https://abs.twimg.com/images/themes/theme1/bg.png', 'profile_background_tile': False, 'profile_image_url': 'http://pbs.twimg.com/profile_images/1589671780163227649/-VeelyrG_normal.jpg', 'profile_image_url_https': 'https://pbs.twimg.com/profile_images/1589671780163227649/-VeelyrG_normal.jpg', 'profile_banner_url': 'https://pbs.twimg.com/profile_banners/409389074/1666123398', 'profile_link_color': '1DA1F2', 'profile_sidebar_border_color': 'C0DEED', 'profile_sidebar_fill_color': 'DDEEF6', 'profile_text_color': '333333', 'profile_use_background_image': True, 'has_extended_profile': True, 'default_profile': True, 'default_profile_image': False, 'following': False, 'follow_request_sent': False, 'notifications': False, 'translator_type': 'none', 'withheld_in_countries': []}, 'geo': None, 'coordinates': None, 'place': None, 'contributors': None, 'is_quote_status': False, 'retweet_count': 4, 'favorite_count': 11, 'favorited': False, 'retweeted': False, 'possibly_sensitive': False, 'lang': 'en'}, 'is_quote_status': False, 'retweet_count': 4, 'favorite_count': 0, 'favorited': False, 'retweeted': False, 'possibly_sensitive': False, 'lang': 'en'}, created_at=datetime.datetime(2022, 12, 11, 18, 20, 50, tzinfo=datetime.timezone.utc), id=1602005505194725378, id_str='1602005505194725378', text='RT @Esqueer_: Twitter is a Tesla fire. https://t.co/tzdFRBmBfP', truncated=False, entities={'hashtags': [], 'symbols': [], 'user_mentions': [{'screen_name': 'Esqueer_', 'name': 'Alejandra Caraballo', 'id': 409389074, 'id_str': '409389074', 'indices': [3, 12]}], 'urls': [], 'media': [{'id': 1602004336665673729, 'id_str': '1602004336665673729', 'indices': [39, 62], 'media_url': 'http://pbs.twimg.com/media/Fjt2dNeXwAEcmcn.jpg', 'media_url_https': 'https://pbs.twimg.com/media/Fjt2dNeXwAEcmcn.jpg', 'url': 'https://t.co/tzdFRBmBfP', 'display_url': 'pic.twitter.com/tzdFRBmBfP', 'expanded_url': 'https://twitter.com/Esqueer_/status/1602005410357059584/photo/1', 'type': 'photo', 'sizes': {'thumb': {'w': 150, 'h': 150, 'resize': 'crop'}, 'medium': {'w': 1050, 'h': 591, 'resize': 'fit'}, 'small': {'w': 680, 'h': 383, 'resize': 'fit'}, 'large': {'w': 1050, 'h': 591, 'resize': 'fit'}}, 'source_status_id': 1602005410357059584, 'source_status_id_str': '1602005410357059584', 'source_user_id': 409389074, 'source_user_id_str': '409389074'}]}, extended_entities={'media': [{'id': 1602004336665673729, 'id_str': '1602004336665673729', 'indices': [39, 62], 'media_url': 'http://pbs.twimg.com/media/Fjt2dNeXwAEcmcn.jpg', 'media_url_https': 'https://pbs.twimg.com/media/Fjt2dNeXwAEcmcn.jpg', 'url': 'https://t.co/tzdFRBmBfP', 'display_url': 'pic.twitter.com/tzdFRBmBfP', 'expanded_url': 'https://twitter.com/Esqueer_/status/1602005410357059584/photo/1', 'type': 'photo', 'sizes': {'thumb': {'w': 150, 'h': 150, 'resize': 'crop'}, 'medium': {'w': 1050, 'h': 591, 'resize': 'fit'}, 'small': {'w': 680, 'h': 383, 'resize': 'fit'}, 'large': {'w': 1050, 'h': 591, 'resize': 'fit'}}, 'source_status_id': 1602005410357059584, 'source_status_id_str': '1602005410357059584', 'source_user_id': 409389074, 'source_user_id_str': '409389074'}]}, metadata={'iso_language_code': 'en', 'result_type': 'recent'}, source='Twitter for iPhone', source_url='http://twitter.com/download/iphone', in_reply_to_status_id=None, in_reply_to_status_id_str=None, in_reply_to_user_id=None, in_reply_to_user_id_str=None, in_reply_to_screen_name=None, author=User(_api=<tweepy.api.API object at 0x7f88485fb400>, _json={'id': 16779119, 'id_str': '16779119', 'name': 'Anne M. 🦇', 'screen_name': 'nongenderous', 'location': '', 'description': 'Intersectional feminist. Medlem i @Raudt. Uføretrygdet. #ActuallyAutistic #abolishcapitalism #freepalestine #abolishallborders', 'url': None, 'entities': {'description': {'urls': []}}, 'protected': False, 'followers_count': 1494, 'friends_count': 2590, 'listed_count': 103, 'created_at': 'Wed Oct 15 10:56:18 +0000 2008', 'favourites_count': 10198, 'utc_offset': None, 'time_zone': None, 'geo_enabled': False, 'verified': False, 'statuses_count': 175123, 'lang': None, 'contributors_enabled': False, 'is_translator': False, 'is_translation_enabled': False, 'profile_background_color': '0077FC', 'profile_background_image_url': 'http://abs.twimg.com/images/themes/theme3/bg.gif', 'profile_background_image_url_https': 'https://abs.twimg.com/images/themes/theme3/bg.gif', 'profile_background_tile': True, 'profile_image_url': 'http://pbs.twimg.com/profile_images/1474307687030697986/UQVJXiEb_normal.jpg', 'profile_image_url_https': 'https://pbs.twimg.com/profile_images/1474307687030697986/UQVJXiEb_normal.jpg', 'profile_banner_url': 'https://pbs.twimg.com/profile_banners/16779119/1373482374', 'profile_link_color': '0077FC', 'profile_sidebar_border_color': 'FFFFFF', 'profile_sidebar_fill_color': '004DA3', 'profile_text_color': '00162E', 'profile_use_background_image': True, 'has_extended_profile': True, 'default_profile': False, 'default_profile_image': False, 'following': False, 'follow_request_sent': False, 'notifications': False, 'translator_type': 'none', 'withheld_in_countries': []}, id=16779119, id_str='16779119', name='Anne M. 🦇', screen_name='nongenderous', location='', description='Intersectional feminist. Medlem i @Raudt. Uføretrygdet. #ActuallyAutistic #abolishcapitalism #freepalestine #abolishallborders', url=None, entities={'description': {'urls': []}}, protected=False, followers_count=1494, friends_count=2590, listed_count=103, created_at=datetime.datetime(2008, 10, 15, 10, 56, 18, tzinfo=datetime.timezone.utc), favourites_count=10198, utc_offset=None, time_zone=None, geo_enabled=False, verified=False, statuses_count=175123, lang=None, contributors_enabled=False, is_translator=False, is_translation_enabled=False, profile_background_color='0077FC', profile_background_image_url='http://abs.twimg.com/images/themes/theme3/bg.gif', profile_background_image_url_https='https://abs.twimg.com/images/themes/theme3/bg.gif', profile_background_tile=True, profile_image_url='http://pbs.twimg.com/profile_images/1474307687030697986/UQVJXiEb_normal.jpg', profile_image_url_https='https://pbs.twimg.com/profile_images/1474307687030697986/UQVJXiEb_normal.jpg', profile_banner_url='https://pbs.twimg.com/profile_banners/16779119/1373482374', profile_link_color='0077FC', profile_sidebar_border_color='FFFFFF', profile_sidebar_fill_color='004DA3', profile_text_color='00162E', profile_use_background_image=True, has_extended_profile=True, default_profile=False, default_profile_image=False, following=False, follow_request_sent=False, notifications=False, translator_type='none', withheld_in_countries=[]), user=User(_api=<tweepy.api.API object at 0x7f88485fb400>, _json={'id': 16779119, 'id_str': '16779119', 'name': 'Anne M. 🦇', 'screen_name': 'nongenderous', 'location': '', 'description': 'Intersectional feminist. Medlem i @Raudt. Uføretrygdet. #ActuallyAutistic #abolishcapitalism #freepalestine #abolishallborders', 'url': None, 'entities': {'description': {'urls': []}}, 'protected': False, 'followers_count': 1494, 'friends_count': 2590, 'listed_count': 103, 'created_at': 'Wed Oct 15 10:56:18 +0000 2008', 'favourites_count': 10198, 'utc_offset': None, 'time_zone': None, 'geo_enabled': False, 'verified': False, 'statuses_count': 175123, 'lang': None, 'contributors_enabled': False, 'is_translator': False, 'is_translation_enabled': False, 'profile_background_color': '0077FC', 'profile_background_image_url': 'http://abs.twimg.com/images/themes/theme3/bg.gif', 'profile_background_image_url_https': 'https://abs.twimg.com/images/themes/theme3/bg.gif', 'profile_background_tile': True, 'profile_image_url': 'http://pbs.twimg.com/profile_images/1474307687030697986/UQVJXiEb_normal.jpg', 'profile_image_url_https': 'https://pbs.twimg.com/profile_images/1474307687030697986/UQVJXiEb_normal.jpg', 'profile_banner_url': 'https://pbs.twimg.com/profile_banners/16779119/1373482374', 'profile_link_color': '0077FC', 'profile_sidebar_border_color': 'FFFFFF', 'profile_sidebar_fill_color': '004DA3', 'profile_text_color': '00162E', 'profile_use_background_image': True, 'has_extended_profile': True, 'default_profile': False, 'default_profile_image': False, 'following': False, 'follow_request_sent': False, 'notifications': False, 'translator_type': 'none', 'withheld_in_countries': []}, id=16779119, id_str='16779119', name='Anne M. 🦇', screen_name='nongenderous', location='', description='Intersectional feminist. Medlem i @Raudt. Uføretrygdet. #ActuallyAutistic #abolishcapitalism #freepalestine #abolishallborders', url=None, entities={'description': {'urls': []}}, protected=False, followers_count=1494, friends_count=2590, listed_count=103, created_at=datetime.datetime(2008, 10, 15, 10, 56, 18, tzinfo=datetime.timezone.utc), favourites_count=10198, utc_offset=None, time_zone=None, geo_enabled=False, verified=False, statuses_count=175123, lang=None, contributors_enabled=False, is_translator=False, is_translation_enabled=False, profile_background_color='0077FC', profile_background_image_url='http://abs.twimg.com/images/themes/theme3/bg.gif', profile_background_image_url_https='https://abs.twimg.com/images/themes/theme3/bg.gif', profile_background_tile=True, profile_image_url='http://pbs.twimg.com/profile_images/1474307687030697986/UQVJXiEb_normal.jpg', profile_image_url_https='https://pbs.twimg.com/profile_images/1474307687030697986/UQVJXiEb_normal.jpg', profile_banner_url='https://pbs.twimg.com/profile_banners/16779119/1373482374', profile_link_color='0077FC', profile_sidebar_border_color='FFFFFF', profile_sidebar_fill_color='004DA3', profile_text_color='00162E', profile_use_background_image=True, has_extended_profile=True, default_profile=False, default_profile_image=False, following=False, follow_request_sent=False, notifications=False, translator_type='none', withheld_in_countries=[]), geo=None, coordinates=None, place=None, contributors=None, retweeted_status=Status(_api=<tweepy.api.API object at 0x7f88485fb400>, _json={'created_at': 'Sun Dec 11 18:20:28 +0000 2022', 'id': 1602005410357059584, 'id_str': '1602005410357059584', 'text': 'Twitter is a Tesla fire. https://t.co/tzdFRBmBfP', 'truncated': False, 'entities': {'hashtags': [], 'symbols': [], 'user_mentions': [], 'urls': [], 'media': [{'id': 1602004336665673729, 'id_str': '1602004336665673729', 'indices': [25, 48], 'media_url': 'http://pbs.twimg.com/media/Fjt2dNeXwAEcmcn.jpg', 'media_url_https': 'https://pbs.twimg.com/media/Fjt2dNeXwAEcmcn.jpg', 'url': 'https://t.co/tzdFRBmBfP', 'display_url': 'pic.twitter.com/tzdFRBmBfP', 'expanded_url': 'https://twitter.com/Esqueer_/status/1602005410357059584/photo/1', 'type': 'photo', 'sizes': {'thumb': {'w': 150, 'h': 150, 'resize': 'crop'}, 'medium': {'w': 1050, 'h': 591, 'resize': 'fit'}, 'small': {'w': 680, 'h': 383, 'resize': 'fit'}, 'large': {'w': 1050, 'h': 591, 'resize': 'fit'}}}]}, 'extended_entities': {'media': [{'id': 1602004336665673729, 'id_str': '1602004336665673729', 'indices': [25, 48], 'media_url': 'http://pbs.twimg.com/media/Fjt2dNeXwAEcmcn.jpg', 'media_url_https': 'https://pbs.twimg.com/media/Fjt2dNeXwAEcmcn.jpg', 'url': 'https://t.co/tzdFRBmBfP', 'display_url': 'pic.twitter.com/tzdFRBmBfP', 'expanded_url': 'https://twitter.com/Esqueer_/status/1602005410357059584/photo/1', 'type': 'photo', 'sizes': {'thumb': {'w': 150, 'h': 150, 'resize': 'crop'}, 'medium': {'w': 1050, 'h': 591, 'resize': 'fit'}, 'small': {'w': 680, 'h': 383, 'resize': 'fit'}, 'large': {'w': 1050, 'h': 591, 'resize': 'fit'}}}]}, 'metadata': {'iso_language_code': 'en', 'result_type': 'recent'}, 'source': '<a href=\"https://mobile.twitter.com\" rel=\"nofollow\">Twitter Web App</a>', 'in_reply_to_status_id': None, 'in_reply_to_status_id_str': None, 'in_reply_to_user_id': None, 'in_reply_to_user_id_str': None, 'in_reply_to_screen_name': None, 'user': {'id': 409389074, 'id_str': '409389074', 'name': 'Alejandra Caraballo', 'screen_name': 'Esqueer_', 'location': 'Cambridge, MA', 'description': \"Wise Latina 🇵🇷. Clinical Instructor, Harvard Law Cyberlaw Clinic. Gender & Tech. 'Alleged expert' - Elon Musk. Bylines @Wired, @Slate. Views = my own.\", 'url': 'https://t.co/GygTwNKf8d', 'entities': {'url': {'urls': [{'url': 'https://t.co/GygTwNKf8d', 'expanded_url': 'https://www.buzzsprout.com/1949544', 'display_url': 'buzzsprout.com/1949544', 'indices': [0, 23]}]}, 'description': {'urls': []}}, 'protected': False, 'followers_count': 76390, 'friends_count': 1204, 'listed_count': 411, 'created_at': 'Thu Nov 10 17:29:14 +0000 2011', 'favourites_count': 45141, 'utc_offset': None, 'time_zone': None, 'geo_enabled': True, 'verified': True, 'statuses_count': 16019, 'lang': None, 'contributors_enabled': False, 'is_translator': False, 'is_translation_enabled': False, 'profile_background_color': 'C0DEED', 'profile_background_image_url': 'http://abs.twimg.com/images/themes/theme1/bg.png', 'profile_background_image_url_https': 'https://abs.twimg.com/images/themes/theme1/bg.png', 'profile_background_tile': False, 'profile_image_url': 'http://pbs.twimg.com/profile_images/1589671780163227649/-VeelyrG_normal.jpg', 'profile_image_url_https': 'https://pbs.twimg.com/profile_images/1589671780163227649/-VeelyrG_normal.jpg', 'profile_banner_url': 'https://pbs.twimg.com/profile_banners/409389074/1666123398', 'profile_link_color': '1DA1F2', 'profile_sidebar_border_color': 'C0DEED', 'profile_sidebar_fill_color': 'DDEEF6', 'profile_text_color': '333333', 'profile_use_background_image': True, 'has_extended_profile': True, 'default_profile': True, 'default_profile_image': False, 'following': False, 'follow_request_sent': False, 'notifications': False, 'translator_type': 'none', 'withheld_in_countries': []}, 'geo': None, 'coordinates': None, 'place': None, 'contributors': None, 'is_quote_status': False, 'retweet_count': 4, 'favorite_count': 11, 'favorited': False, 'retweeted': False, 'possibly_sensitive': False, 'lang': 'en'}, created_at=datetime.datetime(2022, 12, 11, 18, 20, 28, tzinfo=datetime.timezone.utc), id=1602005410357059584, id_str='1602005410357059584', text='Twitter is a Tesla fire. https://t.co/tzdFRBmBfP', truncated=False, entities={'hashtags': [], 'symbols': [], 'user_mentions': [], 'urls': [], 'media': [{'id': 1602004336665673729, 'id_str': '1602004336665673729', 'indices': [25, 48], 'media_url': 'http://pbs.twimg.com/media/Fjt2dNeXwAEcmcn.jpg', 'media_url_https': 'https://pbs.twimg.com/media/Fjt2dNeXwAEcmcn.jpg', 'url': 'https://t.co/tzdFRBmBfP', 'display_url': 'pic.twitter.com/tzdFRBmBfP', 'expanded_url': 'https://twitter.com/Esqueer_/status/1602005410357059584/photo/1', 'type': 'photo', 'sizes': {'thumb': {'w': 150, 'h': 150, 'resize': 'crop'}, 'medium': {'w': 1050, 'h': 591, 'resize': 'fit'}, 'small': {'w': 680, 'h': 383, 'resize': 'fit'}, 'large': {'w': 1050, 'h': 591, 'resize': 'fit'}}}]}, extended_entities={'media': [{'id': 1602004336665673729, 'id_str': '1602004336665673729', 'indices': [25, 48], 'media_url': 'http://pbs.twimg.com/media/Fjt2dNeXwAEcmcn.jpg', 'media_url_https': 'https://pbs.twimg.com/media/Fjt2dNeXwAEcmcn.jpg', 'url': 'https://t.co/tzdFRBmBfP', 'display_url': 'pic.twitter.com/tzdFRBmBfP', 'expanded_url': 'https://twitter.com/Esqueer_/status/1602005410357059584/photo/1', 'type': 'photo', 'sizes': {'thumb': {'w': 150, 'h': 150, 'resize': 'crop'}, 'medium': {'w': 1050, 'h': 591, 'resize': 'fit'}, 'small': {'w': 680, 'h': 383, 'resize': 'fit'}, 'large': {'w': 1050, 'h': 591, 'resize': 'fit'}}}]}, metadata={'iso_language_code': 'en', 'result_type': 'recent'}, source='Twitter Web App', source_url='https://mobile.twitter.com', in_reply_to_status_id=None, in_reply_to_status_id_str=None, in_reply_to_user_id=None, in_reply_to_user_id_str=None, in_reply_to_screen_name=None, author=User(_api=<tweepy.api.API object at 0x7f88485fb400>, _json={'id': 409389074, 'id_str': '409389074', 'name': 'Alejandra Caraballo', 'screen_name': 'Esqueer_', 'location': 'Cambridge, MA', 'description': \"Wise Latina 🇵🇷. Clinical Instructor, Harvard Law Cyberlaw Clinic. Gender & Tech. 'Alleged expert' - Elon Musk. Bylines @Wired, @Slate. Views = my own.\", 'url': 'https://t.co/GygTwNKf8d', 'entities': {'url': {'urls': [{'url': 'https://t.co/GygTwNKf8d', 'expanded_url': 'https://www.buzzsprout.com/1949544', 'display_url': 'buzzsprout.com/1949544', 'indices': [0, 23]}]}, 'description': {'urls': []}}, 'protected': False, 'followers_count': 76390, 'friends_count': 1204, 'listed_count': 411, 'created_at': 'Thu Nov 10 17:29:14 +0000 2011', 'favourites_count': 45141, 'utc_offset': None, 'time_zone': None, 'geo_enabled': True, 'verified': True, 'statuses_count': 16019, 'lang': None, 'contributors_enabled': False, 'is_translator': False, 'is_translation_enabled': False, 'profile_background_color': 'C0DEED', 'profile_background_image_url': 'http://abs.twimg.com/images/themes/theme1/bg.png', 'profile_background_image_url_https': 'https://abs.twimg.com/images/themes/theme1/bg.png', 'profile_background_tile': False, 'profile_image_url': 'http://pbs.twimg.com/profile_images/1589671780163227649/-VeelyrG_normal.jpg', 'profile_image_url_https': 'https://pbs.twimg.com/profile_images/1589671780163227649/-VeelyrG_normal.jpg', 'profile_banner_url': 'https://pbs.twimg.com/profile_banners/409389074/1666123398', 'profile_link_color': '1DA1F2', 'profile_sidebar_border_color': 'C0DEED', 'profile_sidebar_fill_color': 'DDEEF6', 'profile_text_color': '333333', 'profile_use_background_image': True, 'has_extended_profile': True, 'default_profile': True, 'default_profile_image': False, 'following': False, 'follow_request_sent': False, 'notifications': False, 'translator_type': 'none', 'withheld_in_countries': []}, id=409389074, id_str='409389074', name='Alejandra Caraballo', screen_name='Esqueer_', location='Cambridge, MA', description=\"Wise Latina 🇵🇷. Clinical Instructor, Harvard Law Cyberlaw Clinic. Gender & Tech. 'Alleged expert' - Elon Musk. Bylines @Wired, @Slate. Views = my own.\", url='https://t.co/GygTwNKf8d', entities={'url': {'urls': [{'url': 'https://t.co/GygTwNKf8d', 'expanded_url': 'https://www.buzzsprout.com/1949544', 'display_url': 'buzzsprout.com/1949544', 'indices': [0, 23]}]}, 'description': {'urls': []}}, protected=False, followers_count=76390, friends_count=1204, listed_count=411, created_at=datetime.datetime(2011, 11, 10, 17, 29, 14, tzinfo=datetime.timezone.utc), favourites_count=45141, utc_offset=None, time_zone=None, geo_enabled=True, verified=True, statuses_count=16019, lang=None, contributors_enabled=False, is_translator=False, is_translation_enabled=False, profile_background_color='C0DEED', profile_background_image_url='http://abs.twimg.com/images/themes/theme1/bg.png', profile_background_image_url_https='https://abs.twimg.com/images/themes/theme1/bg.png', profile_background_tile=False, profile_image_url='http://pbs.twimg.com/profile_images/1589671780163227649/-VeelyrG_normal.jpg', profile_image_url_https='https://pbs.twimg.com/profile_images/1589671780163227649/-VeelyrG_normal.jpg', profile_banner_url='https://pbs.twimg.com/profile_banners/409389074/1666123398', profile_link_color='1DA1F2', profile_sidebar_border_color='C0DEED', profile_sidebar_fill_color='DDEEF6', profile_text_color='333333', profile_use_background_image=True, has_extended_profile=True, default_profile=True, default_profile_image=False, following=False, follow_request_sent=False, notifications=False, translator_type='none', withheld_in_countries=[]), user=User(_api=<tweepy.api.API object at 0x7f88485fb400>, _json={'id': 409389074, 'id_str': '409389074', 'name': 'Alejandra Caraballo', 'screen_name': 'Esqueer_', 'location': 'Cambridge, MA', 'description': \"Wise Latina 🇵🇷. Clinical Instructor, Harvard Law Cyberlaw Clinic. Gender & Tech. 'Alleged expert' - Elon Musk. Bylines @Wired, @Slate. Views = my own.\", 'url': 'https://t.co/GygTwNKf8d', 'entities': {'url': {'urls': [{'url': 'https://t.co/GygTwNKf8d', 'expanded_url': 'https://www.buzzsprout.com/1949544', 'display_url': 'buzzsprout.com/1949544', 'indices': [0, 23]}]}, 'description': {'urls': []}}, 'protected': False, 'followers_count': 76390, 'friends_count': 1204, 'listed_count': 411, 'created_at': 'Thu Nov 10 17:29:14 +0000 2011', 'favourites_count': 45141, 'utc_offset': None, 'time_zone': None, 'geo_enabled': True, 'verified': True, 'statuses_count': 16019, 'lang': None, 'contributors_enabled': False, 'is_translator': False, 'is_translation_enabled': False, 'profile_background_color': 'C0DEED', 'profile_background_image_url': 'http://abs.twimg.com/images/themes/theme1/bg.png', 'profile_background_image_url_https': 'https://abs.twimg.com/images/themes/theme1/bg.png', 'profile_background_tile': False, 'profile_image_url': 'http://pbs.twimg.com/profile_images/1589671780163227649/-VeelyrG_normal.jpg', 'profile_image_url_https': 'https://pbs.twimg.com/profile_images/1589671780163227649/-VeelyrG_normal.jpg', 'profile_banner_url': 'https://pbs.twimg.com/profile_banners/409389074/1666123398', 'profile_link_color': '1DA1F2', 'profile_sidebar_border_color': 'C0DEED', 'profile_sidebar_fill_color': 'DDEEF6', 'profile_text_color': '333333', 'profile_use_background_image': True, 'has_extended_profile': True, 'default_profile': True, 'default_profile_image': False, 'following': False, 'follow_request_sent': False, 'notifications': False, 'translator_type': 'none', 'withheld_in_countries': []}, id=409389074, id_str='409389074', name='Alejandra Caraballo', screen_name='Esqueer_', location='Cambridge, MA', description=\"Wise Latina 🇵🇷. Clinical Instructor, Harvard Law Cyberlaw Clinic. Gender & Tech. 'Alleged expert' - Elon Musk. Bylines @Wired, @Slate. Views = my own.\", url='https://t.co/GygTwNKf8d', entities={'url': {'urls': [{'url': 'https://t.co/GygTwNKf8d', 'expanded_url': 'https://www.buzzsprout.com/1949544', 'display_url': 'buzzsprout.com/1949544', 'indices': [0, 23]}]}, 'description': {'urls': []}}, protected=False, followers_count=76390, friends_count=1204, listed_count=411, created_at=datetime.datetime(2011, 11, 10, 17, 29, 14, tzinfo=datetime.timezone.utc), favourites_count=45141, utc_offset=None, time_zone=None, geo_enabled=True, verified=True, statuses_count=16019, lang=None, contributors_enabled=False, is_translator=False, is_translation_enabled=False, profile_background_color='C0DEED', profile_background_image_url='http://abs.twimg.com/images/themes/theme1/bg.png', profile_background_image_url_https='https://abs.twimg.com/images/themes/theme1/bg.png', profile_background_tile=False, profile_image_url='http://pbs.twimg.com/profile_images/1589671780163227649/-VeelyrG_normal.jpg', profile_image_url_https='https://pbs.twimg.com/profile_images/1589671780163227649/-VeelyrG_normal.jpg', profile_banner_url='https://pbs.twimg.com/profile_banners/409389074/1666123398', profile_link_color='1DA1F2', profile_sidebar_border_color='C0DEED', profile_sidebar_fill_color='DDEEF6', profile_text_color='333333', profile_use_background_image=True, has_extended_profile=True, default_profile=True, default_profile_image=False, following=False, follow_request_sent=False, notifications=False, translator_type='none', withheld_in_countries=[]), geo=None, coordinates=None, place=None, contributors=None, is_quote_status=False, retweet_count=4, favorite_count=11, favorited=False, retweeted=False, possibly_sensitive=False, lang='en'), is_quote_status=False, retweet_count=4, favorite_count=0, favorited=False, retweeted=False, possibly_sensitive=False, lang='en')\n",
      "[]\n"
     ]
    }
   ],
   "source": [
    "#Sentiment Analysis\n",
    "\n",
    "def percentage(part,whole):\n",
    "    return 100 * float(part)/float(whole) \n",
    "\n",
    "keyword = 'tesla'\n",
    "noOfTweet = 1\n",
    "\n",
    "\n",
    "tweets = tweepy.Cursor(api.search_tweets, q=keyword).items(noOfTweet)\n",
    "rows = []\n",
    "\n",
    "for tweet in tweets:\n",
    "    row = {}\n",
    "    row['text'] = tweet.text\n",
    "    row['date'] = tweet.created_at\n",
    "    row['id'] = tweet.id\n",
    "    row['location'] = tweet.user.location\n",
    "    \n",
    "    score = SentimentIntensityAnalyzer().polarity_scores(tweet.text)\n",
    "    row['compound'] = score['compound']\n",
    "    \n",
    "    rows.append(row)\n",
    "\n",
    "print(rows)\n",
    "            \n"
   ]
  },
  {
   "cell_type": "code",
   "execution_count": null,
   "id": "611432f4",
   "metadata": {},
   "outputs": [],
   "source": []
  },
  {
   "cell_type": "code",
   "execution_count": null,
   "id": "9b0ce915",
   "metadata": {},
   "outputs": [],
   "source": []
  },
  {
   "cell_type": "code",
   "execution_count": null,
   "id": "42fbeab1",
   "metadata": {},
   "outputs": [],
   "source": []
  },
  {
   "cell_type": "code",
   "execution_count": null,
   "id": "266b70ac",
   "metadata": {},
   "outputs": [],
   "source": []
  },
  {
   "cell_type": "code",
   "execution_count": null,
   "id": "f5bd0ffd",
   "metadata": {},
   "outputs": [],
   "source": [
    "#Creating PieCart\n",
    "\n",
    "labels = ['Positive ['+str(positive)+'%]' , 'Neutral ['+str(neutral)+'%]','Negative ['+str(negative)+'%]']\n",
    "sizes = [positive, neutral, negative]\n",
    "colors = ['yellowgreen', 'blue','red']\n",
    "patches, texts = plt.pie(sizes,colors=colors, startangle=90)\n",
    "plt.style.use('default')\n",
    "plt.legend(labels)\n",
    "plt.title(\"Sentiment Analysis Result for keyword=  \"+keyword+\"\" )\n",
    "plt.axis('equal')\n",
    "plt.show()\n"
   ]
  },
  {
   "cell_type": "code",
   "execution_count": null,
   "id": "a540f864",
   "metadata": {},
   "outputs": [],
   "source": [
    "tweet_list.drop_duplicates(inplace = True)\n"
   ]
  },
  {
   "cell_type": "code",
   "execution_count": null,
   "id": "b39ef605",
   "metadata": {},
   "outputs": [],
   "source": [
    "tw_list = pd.DataFrame(tweet_list)\n",
    "tw_list[\"text\"] = tw_list[0]\n",
    "tw_list"
   ]
  },
  {
   "cell_type": "code",
   "execution_count": null,
   "id": "b8d4ef0c",
   "metadata": {},
   "outputs": [],
   "source": [
    "#Cleaning Text (RT, Punctuation etc)\n",
    "\n",
    "#Creating new dataframe and new features\n",
    "tw_list = pd.DataFrame(tweet_list)\n",
    "tw_list[\"text\"] = tw_list[0]\n",
    "\n",
    "#Removing RT, Punctuation etc\n",
    "remove_rt = lambda x: re.sub('RT @\\w+: ',\" \",x)\n",
    "rt = lambda x: re.sub(\"(@[A-Za-z0-9]+)|([^0-9A-Za-z \\t])|(\\w+:\\/\\/\\S+)\",\" \",x)\n",
    "tw_list[\"text\"] = tw_list.text.map(remove_rt).map(rt)\n",
    "tw_list[\"text\"] = tw_list.text.str.lower()\n",
    "tw_list.head(10)"
   ]
  },
  {
   "cell_type": "code",
   "execution_count": null,
   "id": "b54ef920",
   "metadata": {},
   "outputs": [],
   "source": [
    "#Calculating Negative, Positive, Neutral and Compound values\n",
    "\n",
    "tw_list[['polarity', 'subjectivity']] = tw_list['text'].apply(lambda Text: pd.Series(TextBlob(Text).sentiment))\n",
    "for index, row in tw_list['text'].iteritems():\n",
    "    score = SentimentIntensityAnalyzer().polarity_scores(row)\n",
    "    neg = score['neg']\n",
    "    neu = score['neu']\n",
    "    pos = score['pos']\n",
    "    comp = score['compound']\n",
    "    if neg > pos:\n",
    "        tw_list.loc[index, 'sentiment'] = \"negative\"\n",
    "    elif pos > neg:\n",
    "        tw_list.loc[index, 'sentiment'] = \"positive\"\n",
    "    else:\n",
    "        tw_list.loc[index, 'sentiment'] = \"neutral\"\n",
    "    tw_list.loc[index, 'neg'] = neg\n",
    "    tw_list.loc[index, 'neu'] = neu\n",
    "    tw_list.loc[index, 'pos'] = pos\n",
    "    tw_list.loc[index, 'compound'] = comp\n",
    "\n",
    "tw_list.head(10)"
   ]
  },
  {
   "cell_type": "markdown",
   "id": "cba850a9",
   "metadata": {},
   "source": [
    "### Savind the DATA FRAME"
   ]
  },
  {
   "cell_type": "code",
   "execution_count": null,
   "id": "2e8eb668",
   "metadata": {},
   "outputs": [],
   "source": [
    "tesla_tweets = tw_list"
   ]
  },
  {
   "cell_type": "code",
   "execution_count": null,
   "id": "97448d3c",
   "metadata": {},
   "outputs": [],
   "source": [
    "tesla_tweets"
   ]
  },
  {
   "cell_type": "code",
   "execution_count": null,
   "id": "c5b0ab3a",
   "metadata": {},
   "outputs": [],
   "source": [
    "tesla_tweets.to_csv('tesla_tweets.csv')"
   ]
  }
 ],
 "metadata": {
  "kernelspec": {
   "display_name": "Python 3 (ipykernel)",
   "language": "python",
   "name": "python3"
  },
  "language_info": {
   "codemirror_mode": {
    "name": "ipython",
    "version": 3
   },
   "file_extension": ".py",
   "mimetype": "text/x-python",
   "name": "python",
   "nbconvert_exporter": "python",
   "pygments_lexer": "ipython3",
   "version": "3.9.12"
  }
 },
 "nbformat": 4,
 "nbformat_minor": 5
}
