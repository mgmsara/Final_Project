{
 "cells": [
  {
   "cell_type": "code",
   "execution_count": 1,
   "id": "c1ac7e53",
   "metadata": {},
   "outputs": [],
   "source": [
    "import numpy as np\n",
    "import pandas as pd\n",
    "from bs4 import BeautifulSoup\n",
    "import matplotlib.pyplot as plt\n",
    "import seaborn as sns\n",
    "import re\n",
    "%matplotlib inline"
   ]
  },
  {
   "cell_type": "code",
   "execution_count": 2,
   "id": "4981644f",
   "metadata": {},
   "outputs": [],
   "source": [
    "df = pd.read_csv('musk_new.csv')"
   ]
  },
  {
   "cell_type": "code",
   "execution_count": 3,
   "id": "39544292",
   "metadata": {},
   "outputs": [
    {
     "data": {
      "text/html": [
       "<div>\n",
       "<style scoped>\n",
       "    .dataframe tbody tr th:only-of-type {\n",
       "        vertical-align: middle;\n",
       "    }\n",
       "\n",
       "    .dataframe tbody tr th {\n",
       "        vertical-align: top;\n",
       "    }\n",
       "\n",
       "    .dataframe thead th {\n",
       "        text-align: right;\n",
       "    }\n",
       "</style>\n",
       "<table border=\"1\" class=\"dataframe\">\n",
       "  <thead>\n",
       "    <tr style=\"text-align: right;\">\n",
       "      <th></th>\n",
       "      <th>Unnamed: 0</th>\n",
       "      <th>Text</th>\n",
       "      <th>Date_New</th>\n",
       "    </tr>\n",
       "  </thead>\n",
       "  <tbody>\n",
       "    <tr>\n",
       "      <th>0</th>\n",
       "      <td>0</td>\n",
       "      <td>Woke v Woke https://t.co/hmhC5eelik</td>\n",
       "      <td>2022-12-08</td>\n",
       "    </tr>\n",
       "    <tr>\n",
       "      <th>1</th>\n",
       "      <td>1</td>\n",
       "      <td>@EthanBitcoin @dergigi lol</td>\n",
       "      <td>2022-12-08</td>\n",
       "    </tr>\n",
       "    <tr>\n",
       "      <th>2</th>\n",
       "      <td>2</td>\n",
       "      <td>@EddieZipperer https://t.co/92voOIH5d8</td>\n",
       "      <td>2022-12-08</td>\n",
       "    </tr>\n",
       "    <tr>\n",
       "      <th>3</th>\n",
       "      <td>3</td>\n",
       "      <td>RT @teslaownersSV: Tesla Semi is super quiet w...</td>\n",
       "      <td>2022-12-08</td>\n",
       "    </tr>\n",
       "    <tr>\n",
       "      <th>4</th>\n",
       "      <td>4</td>\n",
       "      <td>RT @SpaceX: Teams completed additional vehicle...</td>\n",
       "      <td>2022-12-07</td>\n",
       "    </tr>\n",
       "    <tr>\n",
       "      <th>...</th>\n",
       "      <td>...</td>\n",
       "      <td>...</td>\n",
       "      <td>...</td>\n",
       "    </tr>\n",
       "    <tr>\n",
       "      <th>908</th>\n",
       "      <td>908</td>\n",
       "      <td>@BillyM2k Totally agree!</td>\n",
       "      <td>2022-11-09</td>\n",
       "    </tr>\n",
       "    <tr>\n",
       "      <th>909</th>\n",
       "      <td>909</td>\n",
       "      <td>RT @robinw: https://t.co/05QY6u4FSD</td>\n",
       "      <td>2022-11-09</td>\n",
       "    </tr>\n",
       "    <tr>\n",
       "      <th>910</th>\n",
       "      <td>910</td>\n",
       "      <td>@TOIPlus Nope, I was alway 🥜 !</td>\n",
       "      <td>2022-11-09</td>\n",
       "    </tr>\n",
       "    <tr>\n",
       "      <th>911</th>\n",
       "      <td>911</td>\n",
       "      <td>@ZubyMusic Yeah</td>\n",
       "      <td>2022-11-09</td>\n",
       "    </tr>\n",
       "    <tr>\n",
       "      <th>912</th>\n",
       "      <td>912</td>\n",
       "      <td>@lawrencekitema @SpaceNews_Inc Congratulations!</td>\n",
       "      <td>2022-11-09</td>\n",
       "    </tr>\n",
       "  </tbody>\n",
       "</table>\n",
       "<p>913 rows × 3 columns</p>\n",
       "</div>"
      ],
      "text/plain": [
       "     Unnamed: 0                                               Text    Date_New\n",
       "0             0                Woke v Woke https://t.co/hmhC5eelik  2022-12-08\n",
       "1             1                         @EthanBitcoin @dergigi lol  2022-12-08\n",
       "2             2             @EddieZipperer https://t.co/92voOIH5d8  2022-12-08\n",
       "3             3  RT @teslaownersSV: Tesla Semi is super quiet w...  2022-12-08\n",
       "4             4  RT @SpaceX: Teams completed additional vehicle...  2022-12-07\n",
       "..          ...                                                ...         ...\n",
       "908         908                           @BillyM2k Totally agree!  2022-11-09\n",
       "909         909                RT @robinw: https://t.co/05QY6u4FSD  2022-11-09\n",
       "910         910                     @TOIPlus Nope, I was alway 🥜 !  2022-11-09\n",
       "911         911                                    @ZubyMusic Yeah  2022-11-09\n",
       "912         912    @lawrencekitema @SpaceNews_Inc Congratulations!  2022-11-09\n",
       "\n",
       "[913 rows x 3 columns]"
      ]
     },
     "execution_count": 3,
     "metadata": {},
     "output_type": "execute_result"
    }
   ],
   "source": [
    "df"
   ]
  },
  {
   "cell_type": "code",
   "execution_count": 4,
   "id": "6e1f3a5d",
   "metadata": {},
   "outputs": [],
   "source": [
    "df.drop('Unnamed: 0', inplace=True, axis=1)"
   ]
  },
  {
   "cell_type": "code",
   "execution_count": 5,
   "id": "7a9e8435",
   "metadata": {},
   "outputs": [
    {
     "data": {
      "text/html": [
       "<div>\n",
       "<style scoped>\n",
       "    .dataframe tbody tr th:only-of-type {\n",
       "        vertical-align: middle;\n",
       "    }\n",
       "\n",
       "    .dataframe tbody tr th {\n",
       "        vertical-align: top;\n",
       "    }\n",
       "\n",
       "    .dataframe thead th {\n",
       "        text-align: right;\n",
       "    }\n",
       "</style>\n",
       "<table border=\"1\" class=\"dataframe\">\n",
       "  <thead>\n",
       "    <tr style=\"text-align: right;\">\n",
       "      <th></th>\n",
       "      <th>Text</th>\n",
       "      <th>Date_New</th>\n",
       "    </tr>\n",
       "  </thead>\n",
       "  <tbody>\n",
       "    <tr>\n",
       "      <th>0</th>\n",
       "      <td>Woke v Woke https://t.co/hmhC5eelik</td>\n",
       "      <td>2022-12-08</td>\n",
       "    </tr>\n",
       "    <tr>\n",
       "      <th>1</th>\n",
       "      <td>@EthanBitcoin @dergigi lol</td>\n",
       "      <td>2022-12-08</td>\n",
       "    </tr>\n",
       "    <tr>\n",
       "      <th>2</th>\n",
       "      <td>@EddieZipperer https://t.co/92voOIH5d8</td>\n",
       "      <td>2022-12-08</td>\n",
       "    </tr>\n",
       "    <tr>\n",
       "      <th>3</th>\n",
       "      <td>RT @teslaownersSV: Tesla Semi is super quiet w...</td>\n",
       "      <td>2022-12-08</td>\n",
       "    </tr>\n",
       "    <tr>\n",
       "      <th>4</th>\n",
       "      <td>RT @SpaceX: Teams completed additional vehicle...</td>\n",
       "      <td>2022-12-07</td>\n",
       "    </tr>\n",
       "    <tr>\n",
       "      <th>...</th>\n",
       "      <td>...</td>\n",
       "      <td>...</td>\n",
       "    </tr>\n",
       "    <tr>\n",
       "      <th>908</th>\n",
       "      <td>@BillyM2k Totally agree!</td>\n",
       "      <td>2022-11-09</td>\n",
       "    </tr>\n",
       "    <tr>\n",
       "      <th>909</th>\n",
       "      <td>RT @robinw: https://t.co/05QY6u4FSD</td>\n",
       "      <td>2022-11-09</td>\n",
       "    </tr>\n",
       "    <tr>\n",
       "      <th>910</th>\n",
       "      <td>@TOIPlus Nope, I was alway 🥜 !</td>\n",
       "      <td>2022-11-09</td>\n",
       "    </tr>\n",
       "    <tr>\n",
       "      <th>911</th>\n",
       "      <td>@ZubyMusic Yeah</td>\n",
       "      <td>2022-11-09</td>\n",
       "    </tr>\n",
       "    <tr>\n",
       "      <th>912</th>\n",
       "      <td>@lawrencekitema @SpaceNews_Inc Congratulations!</td>\n",
       "      <td>2022-11-09</td>\n",
       "    </tr>\n",
       "  </tbody>\n",
       "</table>\n",
       "<p>913 rows × 2 columns</p>\n",
       "</div>"
      ],
      "text/plain": [
       "                                                  Text    Date_New\n",
       "0                  Woke v Woke https://t.co/hmhC5eelik  2022-12-08\n",
       "1                           @EthanBitcoin @dergigi lol  2022-12-08\n",
       "2               @EddieZipperer https://t.co/92voOIH5d8  2022-12-08\n",
       "3    RT @teslaownersSV: Tesla Semi is super quiet w...  2022-12-08\n",
       "4    RT @SpaceX: Teams completed additional vehicle...  2022-12-07\n",
       "..                                                 ...         ...\n",
       "908                           @BillyM2k Totally agree!  2022-11-09\n",
       "909                RT @robinw: https://t.co/05QY6u4FSD  2022-11-09\n",
       "910                     @TOIPlus Nope, I was alway 🥜 !  2022-11-09\n",
       "911                                    @ZubyMusic Yeah  2022-11-09\n",
       "912    @lawrencekitema @SpaceNews_Inc Congratulations!  2022-11-09\n",
       "\n",
       "[913 rows x 2 columns]"
      ]
     },
     "execution_count": 5,
     "metadata": {},
     "output_type": "execute_result"
    }
   ],
   "source": [
    "df"
   ]
  },
  {
   "cell_type": "code",
   "execution_count": 12,
   "id": "4bb51549",
   "metadata": {},
   "outputs": [
    {
     "data": {
      "text/plain": [
       "0                    Woke v Woke https://t.co/hmhC5eelik\n",
       "1                             @EthanBitcoin @dergigi lol\n",
       "2                 @EddieZipperer https://t.co/92voOIH5d8\n",
       "3      RT @teslaownersSV: Tesla Semi is super quiet w...\n",
       "4      RT @SpaceX: Teams completed additional vehicle...\n",
       "                             ...                        \n",
       "908                             @BillyM2k Totally agree!\n",
       "909                  RT @robinw: https://t.co/05QY6u4FSD\n",
       "910                       @TOIPlus Nope, I was alway 🥜 !\n",
       "911                                      @ZubyMusic Yeah\n",
       "912      @lawrencekitema @SpaceNews_Inc Congratulations!\n",
       "Name: Text, Length: 913, dtype: object"
      ]
     },
     "execution_count": 12,
     "metadata": {},
     "output_type": "execute_result"
    }
   ],
   "source": [
    "text = df['Text']\n",
    "text"
   ]
  },
  {
   "cell_type": "code",
   "execution_count": 15,
   "id": "dfbdcb33",
   "metadata": {},
   "outputs": [
    {
     "data": {
      "text/plain": [
       "'Woke v Woke https://t.co/hmhC5eelik'"
      ]
     },
     "execution_count": 15,
     "metadata": {},
     "output_type": "execute_result"
    }
   ],
   "source": [
    "text[0]"
   ]
  },
  {
   "cell_type": "code",
   "execution_count": 13,
   "id": "7cef3395",
   "metadata": {},
   "outputs": [
    {
     "ename": "TypeError",
     "evalue": "polarity_scores() missing 1 required positional argument: 'text'",
     "output_type": "error",
     "traceback": [
      "\u001b[0;31m---------------------------------------------------------------------------\u001b[0m",
      "\u001b[0;31mTypeError\u001b[0m                                 Traceback (most recent call last)",
      "Input \u001b[0;32mIn [13]\u001b[0m, in \u001b[0;36m<cell line: 7>\u001b[0;34m()\u001b[0m\n\u001b[1;32m      3\u001b[0m \u001b[38;5;28;01mfrom\u001b[39;00m \u001b[38;5;21;01mnltk\u001b[39;00m\u001b[38;5;21;01m.\u001b[39;00m\u001b[38;5;21;01msentiment\u001b[39;00m\u001b[38;5;21;01m.\u001b[39;00m\u001b[38;5;21;01mvader\u001b[39;00m \u001b[38;5;28;01mimport\u001b[39;00m SentimentIntensityAnalyzer \u001b[38;5;28;01mas\u001b[39;00m si\n\u001b[1;32m      5\u001b[0m text \u001b[38;5;241m=\u001b[39m df[\u001b[38;5;124m'\u001b[39m\u001b[38;5;124mText\u001b[39m\u001b[38;5;124m'\u001b[39m]\n\u001b[0;32m----> 7\u001b[0m \u001b[43msi\u001b[49m\u001b[38;5;241;43m.\u001b[39;49m\u001b[43mpolarity_scores\u001b[49m\u001b[43m(\u001b[49m\u001b[43mtext\u001b[49m\u001b[43m)\u001b[49m\n",
      "\u001b[0;31mTypeError\u001b[0m: polarity_scores() missing 1 required positional argument: 'text'"
     ]
    }
   ],
   "source": [
    "import nltk\n",
    "        \n",
    "from nltk.sentiment.vader import SentimentIntensityAnalyzer as si\n",
    "\n",
    "\n",
    "text = df['Text']\n",
    "\n",
    "si.polarity_scores(text)"
   ]
  },
  {
   "cell_type": "code",
   "execution_count": 16,
   "id": "c4d4d92b",
   "metadata": {},
   "outputs": [
    {
     "ename": "TypeError",
     "evalue": "polarity_scores() missing 1 required positional argument: 'text'",
     "output_type": "error",
     "traceback": [
      "\u001b[0;31m---------------------------------------------------------------------------\u001b[0m",
      "\u001b[0;31mTypeError\u001b[0m                                 Traceback (most recent call last)",
      "Input \u001b[0;32mIn [16]\u001b[0m, in \u001b[0;36m<cell line: 7>\u001b[0;34m()\u001b[0m\n\u001b[1;32m      3\u001b[0m \u001b[38;5;28;01mfrom\u001b[39;00m \u001b[38;5;21;01mnltk\u001b[39;00m\u001b[38;5;21;01m.\u001b[39;00m\u001b[38;5;21;01msentiment\u001b[39;00m\u001b[38;5;21;01m.\u001b[39;00m\u001b[38;5;21;01mvader\u001b[39;00m \u001b[38;5;28;01mimport\u001b[39;00m SentimentIntensityAnalyzer \u001b[38;5;28;01mas\u001b[39;00m si\n\u001b[1;32m      5\u001b[0m a \u001b[38;5;241m=\u001b[39m \u001b[38;5;124m'\u001b[39m\u001b[38;5;124mWoke v Woke https://t.co/hmhC5eelik\u001b[39m\u001b[38;5;124m'\u001b[39m\n\u001b[0;32m----> 7\u001b[0m \u001b[43msi\u001b[49m\u001b[38;5;241;43m.\u001b[39;49m\u001b[43mpolarity_scores\u001b[49m\u001b[43m(\u001b[49m\u001b[43ma\u001b[49m\u001b[43m)\u001b[49m\n",
      "\u001b[0;31mTypeError\u001b[0m: polarity_scores() missing 1 required positional argument: 'text'"
     ]
    }
   ],
   "source": [
    "import nltk\n",
    "        \n",
    "from nltk.sentiment.vader import SentimentIntensityAnalyzer as si\n",
    "\n",
    "a = 'Woke v Woke https://t.co/hmhC5eelik'\n",
    "\n",
    "si.polarity_scores(a)\n",
    "    "
   ]
  },
  {
   "cell_type": "markdown",
   "id": "58a33e8d",
   "metadata": {},
   "source": [
    "# TEST 2"
   ]
  },
  {
   "cell_type": "code",
   "execution_count": 28,
   "id": "eed2d30d",
   "metadata": {},
   "outputs": [
    {
     "ename": "AttributeError",
     "evalue": "'str' object has no attribute 'text'",
     "output_type": "error",
     "traceback": [
      "\u001b[0;31m---------------------------------------------------------------------------\u001b[0m",
      "\u001b[0;31mAttributeError\u001b[0m                            Traceback (most recent call last)",
      "Input \u001b[0;32mIn [28]\u001b[0m, in \u001b[0;36m<cell line: 11>\u001b[0;34m()\u001b[0m\n\u001b[1;32m      9\u001b[0m positive_list \u001b[38;5;241m=\u001b[39m []\n\u001b[1;32m     11\u001b[0m \u001b[38;5;28;01mfor\u001b[39;00m tweet \u001b[38;5;129;01min\u001b[39;00m tweets:\n\u001b[1;32m     12\u001b[0m     \n\u001b[1;32m     13\u001b[0m     \u001b[38;5;66;03m#print(tweet.text)\u001b[39;00m\n\u001b[0;32m---> 14\u001b[0m     tweet_list\u001b[38;5;241m.\u001b[39mappend(\u001b[43mtweet\u001b[49m\u001b[38;5;241;43m.\u001b[39;49m\u001b[43mtext\u001b[49m)\n\u001b[1;32m     15\u001b[0m     analysis \u001b[38;5;241m=\u001b[39m TextBlob(tweet\u001b[38;5;241m.\u001b[39mtext)\n\u001b[1;32m     16\u001b[0m     score \u001b[38;5;241m=\u001b[39m SentimentIntensityAnalyzer()\u001b[38;5;241m.\u001b[39mpolarity_scores(tweet\u001b[38;5;241m.\u001b[39mtext)\n",
      "\u001b[0;31mAttributeError\u001b[0m: 'str' object has no attribute 'text'"
     ]
    }
   ],
   "source": [
    "tweets = df\n",
    "positive  = 0\n",
    "negative = 0\n",
    "neutral = 0\n",
    "polarity = 0\n",
    "tweet_list = []\n",
    "neutral_list = []\n",
    "negative_list = []\n",
    "positive_list = []\n",
    "\n",
    "for tweet in tweets:\n",
    "    \n",
    "    #print(tweet.text)\n",
    "    tweet_list.append(tweet.text)\n",
    "    analysis = TextBlob(tweet.text)\n",
    "    score = SentimentIntensityAnalyzer().polarity_scores(tweet.text)\n",
    "    neg = score['neg']\n",
    "    neu = score['neu']\n",
    "    pos = score['pos']\n",
    "    comp = score['compound']\n",
    "    polarity += analysis.sentiment.polarity\n",
    "    \n",
    "    if neg > pos:\n",
    "        negative_list.append(tweet.text)\n",
    "        negative += 1\n",
    "\n",
    "    elif pos > neg:\n",
    "        positive_list.append(tweet.text)\n",
    "        positive += 1\n",
    "    \n",
    "    elif pos == neg:\n",
    "        neutral_list.append(tweet.text)\n",
    "        neutral += 1\n",
    "\n",
    "positive = percentage(positive, noOfTweet)\n",
    "negative = percentage(negative, noOfTweet)\n",
    "neutral = percentage(neutral, noOfTweet)\n",
    "polarity = percentage(polarity, noOfTweet)\n",
    "positive = format(positive, '.1f')\n",
    "negative = format(negative, '.1f')\n",
    "neutral = format(neutral, '.1f')"
   ]
  },
  {
   "cell_type": "code",
   "execution_count": 17,
   "id": "40f328ce",
   "metadata": {},
   "outputs": [],
   "source": [
    "test = df['Text']"
   ]
  },
  {
   "cell_type": "code",
   "execution_count": 19,
   "id": "21b63698",
   "metadata": {},
   "outputs": [],
   "source": [
    "test = pd.DataFrame (df, columns = ['Text'])"
   ]
  },
  {
   "cell_type": "code",
   "execution_count": 20,
   "id": "d5028c14",
   "metadata": {},
   "outputs": [
    {
     "data": {
      "text/html": [
       "<div>\n",
       "<style scoped>\n",
       "    .dataframe tbody tr th:only-of-type {\n",
       "        vertical-align: middle;\n",
       "    }\n",
       "\n",
       "    .dataframe tbody tr th {\n",
       "        vertical-align: top;\n",
       "    }\n",
       "\n",
       "    .dataframe thead th {\n",
       "        text-align: right;\n",
       "    }\n",
       "</style>\n",
       "<table border=\"1\" class=\"dataframe\">\n",
       "  <thead>\n",
       "    <tr style=\"text-align: right;\">\n",
       "      <th></th>\n",
       "      <th>Text</th>\n",
       "    </tr>\n",
       "  </thead>\n",
       "  <tbody>\n",
       "    <tr>\n",
       "      <th>0</th>\n",
       "      <td>Woke v Woke https://t.co/hmhC5eelik</td>\n",
       "    </tr>\n",
       "    <tr>\n",
       "      <th>1</th>\n",
       "      <td>@EthanBitcoin @dergigi lol</td>\n",
       "    </tr>\n",
       "    <tr>\n",
       "      <th>2</th>\n",
       "      <td>@EddieZipperer https://t.co/92voOIH5d8</td>\n",
       "    </tr>\n",
       "    <tr>\n",
       "      <th>3</th>\n",
       "      <td>RT @teslaownersSV: Tesla Semi is super quiet w...</td>\n",
       "    </tr>\n",
       "    <tr>\n",
       "      <th>4</th>\n",
       "      <td>RT @SpaceX: Teams completed additional vehicle...</td>\n",
       "    </tr>\n",
       "    <tr>\n",
       "      <th>...</th>\n",
       "      <td>...</td>\n",
       "    </tr>\n",
       "    <tr>\n",
       "      <th>908</th>\n",
       "      <td>@BillyM2k Totally agree!</td>\n",
       "    </tr>\n",
       "    <tr>\n",
       "      <th>909</th>\n",
       "      <td>RT @robinw: https://t.co/05QY6u4FSD</td>\n",
       "    </tr>\n",
       "    <tr>\n",
       "      <th>910</th>\n",
       "      <td>@TOIPlus Nope, I was alway 🥜 !</td>\n",
       "    </tr>\n",
       "    <tr>\n",
       "      <th>911</th>\n",
       "      <td>@ZubyMusic Yeah</td>\n",
       "    </tr>\n",
       "    <tr>\n",
       "      <th>912</th>\n",
       "      <td>@lawrencekitema @SpaceNews_Inc Congratulations!</td>\n",
       "    </tr>\n",
       "  </tbody>\n",
       "</table>\n",
       "<p>913 rows × 1 columns</p>\n",
       "</div>"
      ],
      "text/plain": [
       "                                                  Text\n",
       "0                  Woke v Woke https://t.co/hmhC5eelik\n",
       "1                           @EthanBitcoin @dergigi lol\n",
       "2               @EddieZipperer https://t.co/92voOIH5d8\n",
       "3    RT @teslaownersSV: Tesla Semi is super quiet w...\n",
       "4    RT @SpaceX: Teams completed additional vehicle...\n",
       "..                                                 ...\n",
       "908                           @BillyM2k Totally agree!\n",
       "909                RT @robinw: https://t.co/05QY6u4FSD\n",
       "910                     @TOIPlus Nope, I was alway 🥜 !\n",
       "911                                    @ZubyMusic Yeah\n",
       "912    @lawrencekitema @SpaceNews_Inc Congratulations!\n",
       "\n",
       "[913 rows x 1 columns]"
      ]
     },
     "execution_count": 20,
     "metadata": {},
     "output_type": "execute_result"
    }
   ],
   "source": [
    "test"
   ]
  },
  {
   "cell_type": "code",
   "execution_count": 22,
   "id": "c3514780",
   "metadata": {},
   "outputs": [],
   "source": [
    "test.rename(columns = {'Text':'0'}, inplace = True)\n",
    " "
   ]
  },
  {
   "cell_type": "code",
   "execution_count": 23,
   "id": "e6b61429",
   "metadata": {},
   "outputs": [
    {
     "data": {
      "text/html": [
       "<div>\n",
       "<style scoped>\n",
       "    .dataframe tbody tr th:only-of-type {\n",
       "        vertical-align: middle;\n",
       "    }\n",
       "\n",
       "    .dataframe tbody tr th {\n",
       "        vertical-align: top;\n",
       "    }\n",
       "\n",
       "    .dataframe thead th {\n",
       "        text-align: right;\n",
       "    }\n",
       "</style>\n",
       "<table border=\"1\" class=\"dataframe\">\n",
       "  <thead>\n",
       "    <tr style=\"text-align: right;\">\n",
       "      <th></th>\n",
       "      <th>0</th>\n",
       "    </tr>\n",
       "  </thead>\n",
       "  <tbody>\n",
       "    <tr>\n",
       "      <th>0</th>\n",
       "      <td>Woke v Woke https://t.co/hmhC5eelik</td>\n",
       "    </tr>\n",
       "    <tr>\n",
       "      <th>1</th>\n",
       "      <td>@EthanBitcoin @dergigi lol</td>\n",
       "    </tr>\n",
       "    <tr>\n",
       "      <th>2</th>\n",
       "      <td>@EddieZipperer https://t.co/92voOIH5d8</td>\n",
       "    </tr>\n",
       "    <tr>\n",
       "      <th>3</th>\n",
       "      <td>RT @teslaownersSV: Tesla Semi is super quiet w...</td>\n",
       "    </tr>\n",
       "    <tr>\n",
       "      <th>4</th>\n",
       "      <td>RT @SpaceX: Teams completed additional vehicle...</td>\n",
       "    </tr>\n",
       "    <tr>\n",
       "      <th>...</th>\n",
       "      <td>...</td>\n",
       "    </tr>\n",
       "    <tr>\n",
       "      <th>908</th>\n",
       "      <td>@BillyM2k Totally agree!</td>\n",
       "    </tr>\n",
       "    <tr>\n",
       "      <th>909</th>\n",
       "      <td>RT @robinw: https://t.co/05QY6u4FSD</td>\n",
       "    </tr>\n",
       "    <tr>\n",
       "      <th>910</th>\n",
       "      <td>@TOIPlus Nope, I was alway 🥜 !</td>\n",
       "    </tr>\n",
       "    <tr>\n",
       "      <th>911</th>\n",
       "      <td>@ZubyMusic Yeah</td>\n",
       "    </tr>\n",
       "    <tr>\n",
       "      <th>912</th>\n",
       "      <td>@lawrencekitema @SpaceNews_Inc Congratulations!</td>\n",
       "    </tr>\n",
       "  </tbody>\n",
       "</table>\n",
       "<p>913 rows × 1 columns</p>\n",
       "</div>"
      ],
      "text/plain": [
       "                                                     0\n",
       "0                  Woke v Woke https://t.co/hmhC5eelik\n",
       "1                           @EthanBitcoin @dergigi lol\n",
       "2               @EddieZipperer https://t.co/92voOIH5d8\n",
       "3    RT @teslaownersSV: Tesla Semi is super quiet w...\n",
       "4    RT @SpaceX: Teams completed additional vehicle...\n",
       "..                                                 ...\n",
       "908                           @BillyM2k Totally agree!\n",
       "909                RT @robinw: https://t.co/05QY6u4FSD\n",
       "910                     @TOIPlus Nope, I was alway 🥜 !\n",
       "911                                    @ZubyMusic Yeah\n",
       "912    @lawrencekitema @SpaceNews_Inc Congratulations!\n",
       "\n",
       "[913 rows x 1 columns]"
      ]
     },
     "execution_count": 23,
     "metadata": {},
     "output_type": "execute_result"
    }
   ],
   "source": [
    "test"
   ]
  },
  {
   "cell_type": "code",
   "execution_count": 27,
   "id": "d51b86f2",
   "metadata": {},
   "outputs": [
    {
     "ename": "NameError",
     "evalue": "name 'tweet_list' is not defined",
     "output_type": "error",
     "traceback": [
      "\u001b[0;31m---------------------------------------------------------------------------\u001b[0m",
      "\u001b[0;31mNameError\u001b[0m                                 Traceback (most recent call last)",
      "Input \u001b[0;32mIn [27]\u001b[0m, in \u001b[0;36m<cell line: 2>\u001b[0;34m()\u001b[0m\n\u001b[1;32m      1\u001b[0m \u001b[38;5;66;03m#Number of Tweets (Total, Positive, Negative, Neutral)\u001b[39;00m\n\u001b[0;32m----> 2\u001b[0m tweet_list \u001b[38;5;241m=\u001b[39m pd\u001b[38;5;241m.\u001b[39mDataFrame(\u001b[43mtweet_list\u001b[49m)\n\u001b[1;32m      3\u001b[0m neutral_list \u001b[38;5;241m=\u001b[39m pd\u001b[38;5;241m.\u001b[39mDataFrame(neutral_list)\n\u001b[1;32m      4\u001b[0m negative_list \u001b[38;5;241m=\u001b[39m pd\u001b[38;5;241m.\u001b[39mDataFrame(negative_list)\n",
      "\u001b[0;31mNameError\u001b[0m: name 'tweet_list' is not defined"
     ]
    }
   ],
   "source": [
    "#Number of Tweets (Total, Positive, Negative, Neutral)\n",
    "tweet_list = pd.DataFrame(tweet_list)\n",
    "neutral_list = pd.DataFrame(neutral_list)\n",
    "negative_list = pd.DataFrame(negative_list)\n",
    "positive_list = pd.DataFrame(positive_list)\n",
    "print(\"total number: \",len(tweet_list))\n",
    "print(\"positive number: \",len(positive_list))\n",
    "print(\"negative number: \", len(negative_list))\n",
    "print(\"neutral number: \",len(neutral_list))"
   ]
  },
  {
   "cell_type": "code",
   "execution_count": 26,
   "id": "d29187a2",
   "metadata": {},
   "outputs": [
    {
     "ename": "NameError",
     "evalue": "name 'positive' is not defined",
     "output_type": "error",
     "traceback": [
      "\u001b[0;31m---------------------------------------------------------------------------\u001b[0m",
      "\u001b[0;31mNameError\u001b[0m                                 Traceback (most recent call last)",
      "Input \u001b[0;32mIn [26]\u001b[0m, in \u001b[0;36m<cell line: 3>\u001b[0;34m()\u001b[0m\n\u001b[1;32m      1\u001b[0m \u001b[38;5;66;03m#Creating PieCart\u001b[39;00m\n\u001b[0;32m----> 3\u001b[0m labels \u001b[38;5;241m=\u001b[39m [\u001b[38;5;124m'\u001b[39m\u001b[38;5;124mPositive [\u001b[39m\u001b[38;5;124m'\u001b[39m\u001b[38;5;241m+\u001b[39m\u001b[38;5;28mstr\u001b[39m(\u001b[43mpositive\u001b[49m)\u001b[38;5;241m+\u001b[39m\u001b[38;5;124m'\u001b[39m\u001b[38;5;124m%\u001b[39m\u001b[38;5;124m]\u001b[39m\u001b[38;5;124m'\u001b[39m , \u001b[38;5;124m'\u001b[39m\u001b[38;5;124mNeutral [\u001b[39m\u001b[38;5;124m'\u001b[39m\u001b[38;5;241m+\u001b[39m\u001b[38;5;28mstr\u001b[39m(neutral)\u001b[38;5;241m+\u001b[39m\u001b[38;5;124m'\u001b[39m\u001b[38;5;124m%\u001b[39m\u001b[38;5;124m]\u001b[39m\u001b[38;5;124m'\u001b[39m,\u001b[38;5;124m'\u001b[39m\u001b[38;5;124mNegative [\u001b[39m\u001b[38;5;124m'\u001b[39m\u001b[38;5;241m+\u001b[39m\u001b[38;5;28mstr\u001b[39m(negative)\u001b[38;5;241m+\u001b[39m\u001b[38;5;124m'\u001b[39m\u001b[38;5;124m%\u001b[39m\u001b[38;5;124m]\u001b[39m\u001b[38;5;124m'\u001b[39m]\n\u001b[1;32m      4\u001b[0m sizes \u001b[38;5;241m=\u001b[39m [positive, neutral, negative]\n\u001b[1;32m      5\u001b[0m colors \u001b[38;5;241m=\u001b[39m [\u001b[38;5;124m'\u001b[39m\u001b[38;5;124myellowgreen\u001b[39m\u001b[38;5;124m'\u001b[39m, \u001b[38;5;124m'\u001b[39m\u001b[38;5;124mblue\u001b[39m\u001b[38;5;124m'\u001b[39m,\u001b[38;5;124m'\u001b[39m\u001b[38;5;124mred\u001b[39m\u001b[38;5;124m'\u001b[39m]\n",
      "\u001b[0;31mNameError\u001b[0m: name 'positive' is not defined"
     ]
    }
   ],
   "source": [
    "#Creating PieCart\n",
    "\n",
    "labels = ['Positive ['+str(positive)+'%]' , 'Neutral ['+str(neutral)+'%]','Negative ['+str(negative)+'%]']\n",
    "sizes = [positive, neutral, negative]\n",
    "colors = ['yellowgreen', 'blue','red']\n",
    "patches, texts = plt.pie(sizes,colors=colors, startangle=90)\n",
    "plt.style.use('default')\n",
    "plt.legend(labels)\n",
    "plt.title(\"Sentiment Analysis Result for keyword=  \"+keyword+\"\" )\n",
    "plt.axis('equal')\n",
    "plt.show()"
   ]
  }
 ],
 "metadata": {
  "kernelspec": {
   "display_name": "Python 3 (ipykernel)",
   "language": "python",
   "name": "python3"
  },
  "language_info": {
   "codemirror_mode": {
    "name": "ipython",
    "version": 3
   },
   "file_extension": ".py",
   "mimetype": "text/x-python",
   "name": "python",
   "nbconvert_exporter": "python",
   "pygments_lexer": "ipython3",
   "version": "3.9.12"
  }
 },
 "nbformat": 4,
 "nbformat_minor": 5
}
