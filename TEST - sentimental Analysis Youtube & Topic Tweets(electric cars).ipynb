{
 "cells": [
  {
   "cell_type": "markdown",
   "id": "c60fb944",
   "metadata": {},
   "source": [
    "INFO:\n",
    "\n",
    "https://www.youtube.com/watch?v=QpzMWQvxXWk&list=PL7RwtdVQXQ8o6CYe1Teo7FzkrQQoT0c9i\n",
    "    \n",
    "https://www.kaggle.com/code/robikscube/sentiment-analysis-python-youtube-tutorial/notebook"
   ]
  },
  {
   "cell_type": "code",
   "execution_count": 56,
   "id": "d03a2c83",
   "metadata": {},
   "outputs": [],
   "source": [
    "import pandas as pd\n",
    "import numpy as np\n",
    "import matplotlib.pyplot as plt\n",
    "import seaborn as sns\n",
    "import tweepy\n",
    "\n",
    "plt.style.use('ggplot')\n",
    "\n",
    "import nltk\n",
    "\n"
   ]
  },
  {
   "cell_type": "code",
   "execution_count": 5,
   "id": "c796a5ae",
   "metadata": {},
   "outputs": [],
   "source": [
    "df = pd.read_csv('musk_new.csv')"
   ]
  },
  {
   "cell_type": "code",
   "execution_count": 9,
   "id": "2c104fda",
   "metadata": {},
   "outputs": [
    {
     "data": {
      "text/html": [
       "<div>\n",
       "<style scoped>\n",
       "    .dataframe tbody tr th:only-of-type {\n",
       "        vertical-align: middle;\n",
       "    }\n",
       "\n",
       "    .dataframe tbody tr th {\n",
       "        vertical-align: top;\n",
       "    }\n",
       "\n",
       "    .dataframe thead th {\n",
       "        text-align: right;\n",
       "    }\n",
       "</style>\n",
       "<table border=\"1\" class=\"dataframe\">\n",
       "  <thead>\n",
       "    <tr style=\"text-align: right;\">\n",
       "      <th></th>\n",
       "      <th>Id</th>\n",
       "      <th>Text</th>\n",
       "      <th>Date_New</th>\n",
       "    </tr>\n",
       "  </thead>\n",
       "  <tbody>\n",
       "    <tr>\n",
       "      <th>0</th>\n",
       "      <td>0</td>\n",
       "      <td>Woke v Woke https://t.co/hmhC5eelik</td>\n",
       "      <td>2022-12-08</td>\n",
       "    </tr>\n",
       "    <tr>\n",
       "      <th>1</th>\n",
       "      <td>1</td>\n",
       "      <td>@EthanBitcoin @dergigi lol</td>\n",
       "      <td>2022-12-08</td>\n",
       "    </tr>\n",
       "    <tr>\n",
       "      <th>2</th>\n",
       "      <td>2</td>\n",
       "      <td>@EddieZipperer https://t.co/92voOIH5d8</td>\n",
       "      <td>2022-12-08</td>\n",
       "    </tr>\n",
       "    <tr>\n",
       "      <th>3</th>\n",
       "      <td>3</td>\n",
       "      <td>RT @teslaownersSV: Tesla Semi is super quiet w...</td>\n",
       "      <td>2022-12-08</td>\n",
       "    </tr>\n",
       "    <tr>\n",
       "      <th>4</th>\n",
       "      <td>4</td>\n",
       "      <td>RT @SpaceX: Teams completed additional vehicle...</td>\n",
       "      <td>2022-12-07</td>\n",
       "    </tr>\n",
       "  </tbody>\n",
       "</table>\n",
       "</div>"
      ],
      "text/plain": [
       "   Id                                               Text    Date_New\n",
       "0   0                Woke v Woke https://t.co/hmhC5eelik  2022-12-08\n",
       "1   1                         @EthanBitcoin @dergigi lol  2022-12-08\n",
       "2   2             @EddieZipperer https://t.co/92voOIH5d8  2022-12-08\n",
       "3   3  RT @teslaownersSV: Tesla Semi is super quiet w...  2022-12-08\n",
       "4   4  RT @SpaceX: Teams completed additional vehicle...  2022-12-07"
      ]
     },
     "execution_count": 9,
     "metadata": {},
     "output_type": "execute_result"
    }
   ],
   "source": [
    "df.head()\n"
   ]
  },
  {
   "cell_type": "code",
   "execution_count": 10,
   "id": "d5075a30",
   "metadata": {},
   "outputs": [
    {
     "data": {
      "text/html": [
       "<div>\n",
       "<style scoped>\n",
       "    .dataframe tbody tr th:only-of-type {\n",
       "        vertical-align: middle;\n",
       "    }\n",
       "\n",
       "    .dataframe tbody tr th {\n",
       "        vertical-align: top;\n",
       "    }\n",
       "\n",
       "    .dataframe thead th {\n",
       "        text-align: right;\n",
       "    }\n",
       "</style>\n",
       "<table border=\"1\" class=\"dataframe\">\n",
       "  <thead>\n",
       "    <tr style=\"text-align: right;\">\n",
       "      <th></th>\n",
       "      <th>Id</th>\n",
       "      <th>Text</th>\n",
       "      <th>Date_New</th>\n",
       "    </tr>\n",
       "  </thead>\n",
       "  <tbody>\n",
       "    <tr>\n",
       "      <th>0</th>\n",
       "      <td>0</td>\n",
       "      <td>Woke v Woke https://t.co/hmhC5eelik</td>\n",
       "      <td>2022-12-08</td>\n",
       "    </tr>\n",
       "    <tr>\n",
       "      <th>1</th>\n",
       "      <td>1</td>\n",
       "      <td>@EthanBitcoin @dergigi lol</td>\n",
       "      <td>2022-12-08</td>\n",
       "    </tr>\n",
       "    <tr>\n",
       "      <th>2</th>\n",
       "      <td>2</td>\n",
       "      <td>@EddieZipperer https://t.co/92voOIH5d8</td>\n",
       "      <td>2022-12-08</td>\n",
       "    </tr>\n",
       "    <tr>\n",
       "      <th>3</th>\n",
       "      <td>3</td>\n",
       "      <td>RT @teslaownersSV: Tesla Semi is super quiet w...</td>\n",
       "      <td>2022-12-08</td>\n",
       "    </tr>\n",
       "    <tr>\n",
       "      <th>4</th>\n",
       "      <td>4</td>\n",
       "      <td>RT @SpaceX: Teams completed additional vehicle...</td>\n",
       "      <td>2022-12-07</td>\n",
       "    </tr>\n",
       "    <tr>\n",
       "      <th>...</th>\n",
       "      <td>...</td>\n",
       "      <td>...</td>\n",
       "      <td>...</td>\n",
       "    </tr>\n",
       "    <tr>\n",
       "      <th>908</th>\n",
       "      <td>908</td>\n",
       "      <td>@BillyM2k Totally agree!</td>\n",
       "      <td>2022-11-09</td>\n",
       "    </tr>\n",
       "    <tr>\n",
       "      <th>909</th>\n",
       "      <td>909</td>\n",
       "      <td>RT @robinw: https://t.co/05QY6u4FSD</td>\n",
       "      <td>2022-11-09</td>\n",
       "    </tr>\n",
       "    <tr>\n",
       "      <th>910</th>\n",
       "      <td>910</td>\n",
       "      <td>@TOIPlus Nope, I was alway 🥜 !</td>\n",
       "      <td>2022-11-09</td>\n",
       "    </tr>\n",
       "    <tr>\n",
       "      <th>911</th>\n",
       "      <td>911</td>\n",
       "      <td>@ZubyMusic Yeah</td>\n",
       "      <td>2022-11-09</td>\n",
       "    </tr>\n",
       "    <tr>\n",
       "      <th>912</th>\n",
       "      <td>912</td>\n",
       "      <td>@lawrencekitema @SpaceNews_Inc Congratulations!</td>\n",
       "      <td>2022-11-09</td>\n",
       "    </tr>\n",
       "  </tbody>\n",
       "</table>\n",
       "<p>913 rows × 3 columns</p>\n",
       "</div>"
      ],
      "text/plain": [
       "      Id                                               Text    Date_New\n",
       "0      0                Woke v Woke https://t.co/hmhC5eelik  2022-12-08\n",
       "1      1                         @EthanBitcoin @dergigi lol  2022-12-08\n",
       "2      2             @EddieZipperer https://t.co/92voOIH5d8  2022-12-08\n",
       "3      3  RT @teslaownersSV: Tesla Semi is super quiet w...  2022-12-08\n",
       "4      4  RT @SpaceX: Teams completed additional vehicle...  2022-12-07\n",
       "..   ...                                                ...         ...\n",
       "908  908                           @BillyM2k Totally agree!  2022-11-09\n",
       "909  909                RT @robinw: https://t.co/05QY6u4FSD  2022-11-09\n",
       "910  910                     @TOIPlus Nope, I was alway 🥜 !  2022-11-09\n",
       "911  911                                    @ZubyMusic Yeah  2022-11-09\n",
       "912  912    @lawrencekitema @SpaceNews_Inc Congratulations!  2022-11-09\n",
       "\n",
       "[913 rows x 3 columns]"
      ]
     },
     "execution_count": 10,
     "metadata": {},
     "output_type": "execute_result"
    }
   ],
   "source": [
    "df.rename({'Unnamed: 0': 'Id'}, axis=1, inplace=True)\n",
    "df"
   ]
  },
  {
   "cell_type": "code",
   "execution_count": 8,
   "id": "b048ca48",
   "metadata": {},
   "outputs": [
    {
     "ename": "SyntaxError",
     "evalue": "invalid syntax (871505139.py, line 1)",
     "output_type": "error",
     "traceback": [
      "\u001b[0;36m  Input \u001b[0;32mIn [8]\u001b[0;36m\u001b[0m\n\u001b[0;31m    Basic NLTK\u001b[0m\n\u001b[0m          ^\u001b[0m\n\u001b[0;31mSyntaxError\u001b[0m\u001b[0;31m:\u001b[0m invalid syntax\n"
     ]
    }
   ],
   "source": [
    "Basic NLTK\n"
   ]
  },
  {
   "cell_type": "code",
   "execution_count": null,
   "id": "3448a463",
   "metadata": {},
   "outputs": [],
   "source": [
    "example = df['Text'][50]\n",
    "print(example)"
   ]
  },
  {
   "cell_type": "code",
   "execution_count": null,
   "id": "6c2124ed",
   "metadata": {},
   "outputs": [],
   "source": [
    "tokens = nltk.word_tokenize(example)\n",
    "tokens[:10]"
   ]
  },
  {
   "cell_type": "code",
   "execution_count": null,
   "id": "53d43496",
   "metadata": {},
   "outputs": [],
   "source": [
    ">>> import nltk\n",
    ">>> nltk.download()"
   ]
  },
  {
   "cell_type": "code",
   "execution_count": null,
   "id": "1a4e3216",
   "metadata": {},
   "outputs": [],
   "source": [
    "import nltk"
   ]
  },
  {
   "cell_type": "code",
   "execution_count": null,
   "id": "c70da19c",
   "metadata": {},
   "outputs": [],
   "source": [
    "tagged = nltk.pos_tag(tokens)\n",
    "tagged[:10]"
   ]
  },
  {
   "cell_type": "code",
   "execution_count": null,
   "id": "14f857ac",
   "metadata": {},
   "outputs": [],
   "source": [
    "entities = nltk.chunk.ne_chunk(tagged)\n",
    "entities.pprint()"
   ]
  },
  {
   "cell_type": "code",
   "execution_count": null,
   "id": "fd87829e",
   "metadata": {},
   "outputs": [],
   "source": [
    "Step 1. VADER Sentiment Scoring"
   ]
  },
  {
   "cell_type": "code",
   "execution_count": null,
   "id": "58705f9b",
   "metadata": {},
   "outputs": [],
   "source": [
    "from nltk.sentiment import SentimentIntensityAnalyzer\n",
    "from tqdm.notebook import tqdm\n",
    "\n",
    "sia = SentimentIntensityAnalyzer()"
   ]
  },
  {
   "cell_type": "code",
   "execution_count": null,
   "id": "6a5c006f",
   "metadata": {},
   "outputs": [],
   "source": [
    "sia.polarity_scores('I am so happy!')\n"
   ]
  },
  {
   "cell_type": "code",
   "execution_count": null,
   "id": "c9f6c1d1",
   "metadata": {},
   "outputs": [],
   "source": [
    "sia.polarity_scores('This is the worst thing ever.')\n"
   ]
  },
  {
   "cell_type": "code",
   "execution_count": null,
   "id": "2bc28eeb",
   "metadata": {},
   "outputs": [],
   "source": [
    "sia.polarity_scores(example)\n"
   ]
  },
  {
   "cell_type": "code",
   "execution_count": null,
   "id": "169c5b89",
   "metadata": {},
   "outputs": [],
   "source": [
    "res = {}\n",
    "for i, row in tqdm(df.iterrows(), total=len(df)):\n",
    "    text = row['Text']\n",
    "    myid = row['Id']\n",
    "    res[myid] = sia.polarity_scores(text)"
   ]
  },
  {
   "cell_type": "code",
   "execution_count": null,
   "id": "dcd73241",
   "metadata": {},
   "outputs": [],
   "source": [
    "vaders = pd.DataFrame(res).T\n",
    "vaders = vaders.reset_index().rename(columns={'index': 'Id'})\n",
    "vaders = vaders.merge(df, how='left')"
   ]
  },
  {
   "cell_type": "code",
   "execution_count": null,
   "id": "024537bc",
   "metadata": {},
   "outputs": [],
   "source": [
    "vaders.head()"
   ]
  },
  {
   "cell_type": "code",
   "execution_count": null,
   "id": "fb8099ee",
   "metadata": {},
   "outputs": [],
   "source": [
    "Plot VADER results\n"
   ]
  },
  {
   "cell_type": "code",
   "execution_count": null,
   "id": "cbc02132",
   "metadata": {},
   "outputs": [],
   "source": [
    "ax = sns.barplot(data=vaders, x='Score', y='compound')\n",
    "ax.set_title('Compund Score by Amazon Star Review')\n",
    "plt.show()"
   ]
  },
  {
   "cell_type": "markdown",
   "id": "b2334d06",
   "metadata": {},
   "source": [
    "# TEST 2"
   ]
  },
  {
   "cell_type": "code",
   "execution_count": 1,
   "id": "c2c18913",
   "metadata": {},
   "outputs": [
    {
     "name": "stdout",
     "output_type": "stream",
     "text": [
      "Requirement already satisfied: twint in /Users/saori/opt/anaconda3/lib/python3.9/site-packages (2.1.20)\n",
      "Requirement already satisfied: fake-useragent in /Users/saori/opt/anaconda3/lib/python3.9/site-packages (from twint) (1.1.1)\n",
      "Requirement already satisfied: aiohttp-socks in /Users/saori/opt/anaconda3/lib/python3.9/site-packages (from twint) (0.7.1)\n",
      "Requirement already satisfied: aiodns in /Users/saori/opt/anaconda3/lib/python3.9/site-packages (from twint) (3.0.0)\n",
      "Requirement already satisfied: pysocks in /Users/saori/opt/anaconda3/lib/python3.9/site-packages (from twint) (1.7.1)\n",
      "Requirement already satisfied: geopy in /Users/saori/opt/anaconda3/lib/python3.9/site-packages (from twint) (2.3.0)\n",
      "Requirement already satisfied: elasticsearch in /Users/saori/opt/anaconda3/lib/python3.9/site-packages (from twint) (8.5.3)\n",
      "Requirement already satisfied: cchardet in /Users/saori/opt/anaconda3/lib/python3.9/site-packages (from twint) (2.1.7)\n",
      "Requirement already satisfied: pandas in /Users/saori/opt/anaconda3/lib/python3.9/site-packages (from twint) (1.4.2)\n",
      "Requirement already satisfied: beautifulsoup4 in /Users/saori/opt/anaconda3/lib/python3.9/site-packages (from twint) (4.11.1)\n",
      "Requirement already satisfied: schedule in /Users/saori/opt/anaconda3/lib/python3.9/site-packages (from twint) (1.1.0)\n",
      "Requirement already satisfied: aiohttp in /Users/saori/opt/anaconda3/lib/python3.9/site-packages (from twint) (3.8.1)\n",
      "Requirement already satisfied: googletransx in /Users/saori/opt/anaconda3/lib/python3.9/site-packages (from twint) (2.4.2)\n",
      "Requirement already satisfied: pycares>=4.0.0 in /Users/saori/opt/anaconda3/lib/python3.9/site-packages (from aiodns->twint) (4.2.2)\n",
      "Requirement already satisfied: cffi>=1.5.0 in /Users/saori/opt/anaconda3/lib/python3.9/site-packages (from pycares>=4.0.0->aiodns->twint) (1.15.0)\n",
      "Requirement already satisfied: pycparser in /Users/saori/opt/anaconda3/lib/python3.9/site-packages (from cffi>=1.5.0->pycares>=4.0.0->aiodns->twint) (2.21)\n",
      "Requirement already satisfied: async-timeout<5.0,>=4.0.0a3 in /Users/saori/opt/anaconda3/lib/python3.9/site-packages (from aiohttp->twint) (4.0.1)\n",
      "Requirement already satisfied: yarl<2.0,>=1.0 in /Users/saori/opt/anaconda3/lib/python3.9/site-packages (from aiohttp->twint) (1.6.3)\n",
      "Requirement already satisfied: attrs>=17.3.0 in /Users/saori/opt/anaconda3/lib/python3.9/site-packages (from aiohttp->twint) (21.4.0)\n",
      "Requirement already satisfied: aiosignal>=1.1.2 in /Users/saori/opt/anaconda3/lib/python3.9/site-packages (from aiohttp->twint) (1.2.0)\n",
      "Requirement already satisfied: charset-normalizer<3.0,>=2.0 in /Users/saori/opt/anaconda3/lib/python3.9/site-packages (from aiohttp->twint) (2.0.4)\n",
      "Requirement already satisfied: frozenlist>=1.1.1 in /Users/saori/opt/anaconda3/lib/python3.9/site-packages (from aiohttp->twint) (1.2.0)\n",
      "Requirement already satisfied: multidict<7.0,>=4.5 in /Users/saori/opt/anaconda3/lib/python3.9/site-packages (from aiohttp->twint) (5.2.0)\n",
      "Requirement already satisfied: typing-extensions>=3.6.5 in /Users/saori/opt/anaconda3/lib/python3.9/site-packages (from async-timeout<5.0,>=4.0.0a3->aiohttp->twint) (4.1.1)\n",
      "Requirement already satisfied: idna>=2.0 in /Users/saori/opt/anaconda3/lib/python3.9/site-packages (from yarl<2.0,>=1.0->aiohttp->twint) (3.3)\n",
      "Requirement already satisfied: python-socks[asyncio]<3.0.0,>=2.0.0 in /Users/saori/opt/anaconda3/lib/python3.9/site-packages (from aiohttp-socks->twint) (2.0.3)\n",
      "Requirement already satisfied: soupsieve>1.2 in /Users/saori/opt/anaconda3/lib/python3.9/site-packages (from beautifulsoup4->twint) (2.3.1)\n",
      "Requirement already satisfied: elastic-transport<9,>=8 in /Users/saori/opt/anaconda3/lib/python3.9/site-packages (from elasticsearch->twint) (8.4.0)\n",
      "Requirement already satisfied: urllib3<2,>=1.26.2 in /Users/saori/opt/anaconda3/lib/python3.9/site-packages (from elastic-transport<9,>=8->elasticsearch->twint) (1.26.9)\n",
      "Requirement already satisfied: certifi in /Users/saori/opt/anaconda3/lib/python3.9/site-packages (from elastic-transport<9,>=8->elasticsearch->twint) (2021.10.8)\n",
      "Requirement already satisfied: importlib-resources>=5.0 in /Users/saori/opt/anaconda3/lib/python3.9/site-packages (from fake-useragent->twint) (5.10.1)\n",
      "Requirement already satisfied: zipp>=3.1.0 in /Users/saori/opt/anaconda3/lib/python3.9/site-packages (from importlib-resources>=5.0->fake-useragent->twint) (3.7.0)\n",
      "Requirement already satisfied: geographiclib<3,>=1.52 in /Users/saori/opt/anaconda3/lib/python3.9/site-packages (from geopy->twint) (2.0)\n",
      "Requirement already satisfied: requests in /Users/saori/opt/anaconda3/lib/python3.9/site-packages (from googletransx->twint) (2.27.1)\n",
      "Requirement already satisfied: python-dateutil>=2.8.1 in /Users/saori/opt/anaconda3/lib/python3.9/site-packages (from pandas->twint) (2.8.2)\n",
      "Requirement already satisfied: pytz>=2020.1 in /Users/saori/opt/anaconda3/lib/python3.9/site-packages (from pandas->twint) (2021.3)\n",
      "Requirement already satisfied: numpy>=1.18.5 in /Users/saori/opt/anaconda3/lib/python3.9/site-packages (from pandas->twint) (1.21.5)\n",
      "Requirement already satisfied: six>=1.5 in /Users/saori/opt/anaconda3/lib/python3.9/site-packages (from python-dateutil>=2.8.1->pandas->twint) (1.16.0)\n",
      "Note: you may need to restart the kernel to use updated packages.\n"
     ]
    }
   ],
   "source": [
    "pip install twint"
   ]
  },
  {
   "cell_type": "code",
   "execution_count": 2,
   "id": "a6f7f260",
   "metadata": {},
   "outputs": [],
   "source": [
    "import twint\n",
    "import nest_asyncio\n",
    "nest_asyncio.apply()"
   ]
  },
  {
   "cell_type": "code",
   "execution_count": 3,
   "id": "27e9a76e",
   "metadata": {},
   "outputs": [],
   "source": [
    "c = twint.Config()\n",
    "c.Search= 'electric car'"
   ]
  },
  {
   "cell_type": "code",
   "execution_count": 4,
   "id": "bada3437",
   "metadata": {},
   "outputs": [],
   "source": [
    "c.Min_likes = 10\n",
    "c.Count = True\n",
    "c.Since = \"2020-01-01\"\n",
    "c.Store_csv = True # This is for storing file in csv format (if you want in json file it will be c.Store_json=True)\n",
    "c.Output = 'car1.csv'"
   ]
  },
  {
   "cell_type": "code",
   "execution_count": 5,
   "id": "537a81bd",
   "metadata": {},
   "outputs": [
    {
     "name": "stderr",
     "output_type": "stream",
     "text": [
      "CRITICAL:root:twint.run:Twint:Feed:noDataExpecting value: line 1 column 1 (char 0)\n",
      "sleeping for 1.0 secs\n",
      "CRITICAL:root:twint.run:Twint:Feed:noDataExpecting value: line 1 column 1 (char 0)\n",
      "sleeping for 8.0 secs\n",
      "CRITICAL:root:twint.run:Twint:Feed:noDataExpecting value: line 1 column 1 (char 0)\n",
      "sleeping for 27.0 secs\n",
      "CRITICAL:root:twint.run:Twint:Feed:noDataExpecting value: line 1 column 1 (char 0)\n",
      "sleeping for 64.0 secs\n",
      "CRITICAL:root:twint.run:Twint:Feed:noDataExpecting value: line 1 column 1 (char 0)\n",
      "sleeping for 125.0 secs\n",
      "CRITICAL:root:twint.run:Twint:Feed:noDataExpecting value: line 1 column 1 (char 0)\n",
      "sleeping for 216.0 secs\n",
      "CRITICAL:root:twint.run:Twint:Feed:noDataExpecting value: line 1 column 1 (char 0)\n",
      "sleeping for 343.0 secs\n",
      "CRITICAL:root:twint.run:Twint:Feed:noDataExpecting value: line 1 column 1 (char 0)\n",
      "sleeping for 512.0 secs\n",
      "CRITICAL:root:twint.run:Twint:Feed:noDataExpecting value: line 1 column 1 (char 0)\n",
      "sleeping for 729.0 secs\n",
      "CRITICAL:root:twint.run:Twint:Feed:noDataExpecting value: line 1 column 1 (char 0)\n",
      "CRITICAL:root:twint.run:Twint:Feed:Tweets_known_error:Expecting value: line 1 column 1 (char 0)\n"
     ]
    },
    {
     "name": "stdout",
     "output_type": "stream",
     "text": [
      "[+] Finished: Successfully collected 0 Tweets.\n"
     ]
    },
    {
     "name": "stderr",
     "output_type": "stream",
     "text": [
      "Expecting value: line 1 column 1 (char 0) [x] run.Feed[!] if get this error but you know for sure that more tweets exist, please open an issue and we will investigate it!"
     ]
    }
   ],
   "source": [
    "twint.run.Search(c)"
   ]
  },
  {
   "cell_type": "code",
   "execution_count": 18,
   "id": "5c71b4ba",
   "metadata": {},
   "outputs": [
    {
     "ename": "FileNotFoundError",
     "evalue": "[Errno 2] No such file or directory: 'EVs.csv'",
     "output_type": "error",
     "traceback": [
      "\u001b[0;31m---------------------------------------------------------------------------\u001b[0m",
      "\u001b[0;31mFileNotFoundError\u001b[0m                         Traceback (most recent call last)",
      "Input \u001b[0;32mIn [18]\u001b[0m, in \u001b[0;36m<cell line: 1>\u001b[0;34m()\u001b[0m\n\u001b[0;32m----> 1\u001b[0m df \u001b[38;5;241m=\u001b[39m \u001b[43mpd\u001b[49m\u001b[38;5;241;43m.\u001b[39;49m\u001b[43mread_csv\u001b[49m\u001b[43m(\u001b[49m\u001b[38;5;124;43m'\u001b[39;49m\u001b[38;5;124;43mEVs.csv\u001b[39;49m\u001b[38;5;124;43m'\u001b[39;49m\u001b[43m)\u001b[49m\n",
      "File \u001b[0;32m~/opt/anaconda3/lib/python3.9/site-packages/pandas/util/_decorators.py:311\u001b[0m, in \u001b[0;36mdeprecate_nonkeyword_arguments.<locals>.decorate.<locals>.wrapper\u001b[0;34m(*args, **kwargs)\u001b[0m\n\u001b[1;32m    305\u001b[0m \u001b[38;5;28;01mif\u001b[39;00m \u001b[38;5;28mlen\u001b[39m(args) \u001b[38;5;241m>\u001b[39m num_allow_args:\n\u001b[1;32m    306\u001b[0m     warnings\u001b[38;5;241m.\u001b[39mwarn(\n\u001b[1;32m    307\u001b[0m         msg\u001b[38;5;241m.\u001b[39mformat(arguments\u001b[38;5;241m=\u001b[39marguments),\n\u001b[1;32m    308\u001b[0m         \u001b[38;5;167;01mFutureWarning\u001b[39;00m,\n\u001b[1;32m    309\u001b[0m         stacklevel\u001b[38;5;241m=\u001b[39mstacklevel,\n\u001b[1;32m    310\u001b[0m     )\n\u001b[0;32m--> 311\u001b[0m \u001b[38;5;28;01mreturn\u001b[39;00m \u001b[43mfunc\u001b[49m\u001b[43m(\u001b[49m\u001b[38;5;241;43m*\u001b[39;49m\u001b[43margs\u001b[49m\u001b[43m,\u001b[49m\u001b[43m \u001b[49m\u001b[38;5;241;43m*\u001b[39;49m\u001b[38;5;241;43m*\u001b[39;49m\u001b[43mkwargs\u001b[49m\u001b[43m)\u001b[49m\n",
      "File \u001b[0;32m~/opt/anaconda3/lib/python3.9/site-packages/pandas/io/parsers/readers.py:680\u001b[0m, in \u001b[0;36mread_csv\u001b[0;34m(filepath_or_buffer, sep, delimiter, header, names, index_col, usecols, squeeze, prefix, mangle_dupe_cols, dtype, engine, converters, true_values, false_values, skipinitialspace, skiprows, skipfooter, nrows, na_values, keep_default_na, na_filter, verbose, skip_blank_lines, parse_dates, infer_datetime_format, keep_date_col, date_parser, dayfirst, cache_dates, iterator, chunksize, compression, thousands, decimal, lineterminator, quotechar, quoting, doublequote, escapechar, comment, encoding, encoding_errors, dialect, error_bad_lines, warn_bad_lines, on_bad_lines, delim_whitespace, low_memory, memory_map, float_precision, storage_options)\u001b[0m\n\u001b[1;32m    665\u001b[0m kwds_defaults \u001b[38;5;241m=\u001b[39m _refine_defaults_read(\n\u001b[1;32m    666\u001b[0m     dialect,\n\u001b[1;32m    667\u001b[0m     delimiter,\n\u001b[0;32m   (...)\u001b[0m\n\u001b[1;32m    676\u001b[0m     defaults\u001b[38;5;241m=\u001b[39m{\u001b[38;5;124m\"\u001b[39m\u001b[38;5;124mdelimiter\u001b[39m\u001b[38;5;124m\"\u001b[39m: \u001b[38;5;124m\"\u001b[39m\u001b[38;5;124m,\u001b[39m\u001b[38;5;124m\"\u001b[39m},\n\u001b[1;32m    677\u001b[0m )\n\u001b[1;32m    678\u001b[0m kwds\u001b[38;5;241m.\u001b[39mupdate(kwds_defaults)\n\u001b[0;32m--> 680\u001b[0m \u001b[38;5;28;01mreturn\u001b[39;00m \u001b[43m_read\u001b[49m\u001b[43m(\u001b[49m\u001b[43mfilepath_or_buffer\u001b[49m\u001b[43m,\u001b[49m\u001b[43m \u001b[49m\u001b[43mkwds\u001b[49m\u001b[43m)\u001b[49m\n",
      "File \u001b[0;32m~/opt/anaconda3/lib/python3.9/site-packages/pandas/io/parsers/readers.py:575\u001b[0m, in \u001b[0;36m_read\u001b[0;34m(filepath_or_buffer, kwds)\u001b[0m\n\u001b[1;32m    572\u001b[0m _validate_names(kwds\u001b[38;5;241m.\u001b[39mget(\u001b[38;5;124m\"\u001b[39m\u001b[38;5;124mnames\u001b[39m\u001b[38;5;124m\"\u001b[39m, \u001b[38;5;28;01mNone\u001b[39;00m))\n\u001b[1;32m    574\u001b[0m \u001b[38;5;66;03m# Create the parser.\u001b[39;00m\n\u001b[0;32m--> 575\u001b[0m parser \u001b[38;5;241m=\u001b[39m \u001b[43mTextFileReader\u001b[49m\u001b[43m(\u001b[49m\u001b[43mfilepath_or_buffer\u001b[49m\u001b[43m,\u001b[49m\u001b[43m \u001b[49m\u001b[38;5;241;43m*\u001b[39;49m\u001b[38;5;241;43m*\u001b[39;49m\u001b[43mkwds\u001b[49m\u001b[43m)\u001b[49m\n\u001b[1;32m    577\u001b[0m \u001b[38;5;28;01mif\u001b[39;00m chunksize \u001b[38;5;129;01mor\u001b[39;00m iterator:\n\u001b[1;32m    578\u001b[0m     \u001b[38;5;28;01mreturn\u001b[39;00m parser\n",
      "File \u001b[0;32m~/opt/anaconda3/lib/python3.9/site-packages/pandas/io/parsers/readers.py:933\u001b[0m, in \u001b[0;36mTextFileReader.__init__\u001b[0;34m(self, f, engine, **kwds)\u001b[0m\n\u001b[1;32m    930\u001b[0m     \u001b[38;5;28mself\u001b[39m\u001b[38;5;241m.\u001b[39moptions[\u001b[38;5;124m\"\u001b[39m\u001b[38;5;124mhas_index_names\u001b[39m\u001b[38;5;124m\"\u001b[39m] \u001b[38;5;241m=\u001b[39m kwds[\u001b[38;5;124m\"\u001b[39m\u001b[38;5;124mhas_index_names\u001b[39m\u001b[38;5;124m\"\u001b[39m]\n\u001b[1;32m    932\u001b[0m \u001b[38;5;28mself\u001b[39m\u001b[38;5;241m.\u001b[39mhandles: IOHandles \u001b[38;5;241m|\u001b[39m \u001b[38;5;28;01mNone\u001b[39;00m \u001b[38;5;241m=\u001b[39m \u001b[38;5;28;01mNone\u001b[39;00m\n\u001b[0;32m--> 933\u001b[0m \u001b[38;5;28mself\u001b[39m\u001b[38;5;241m.\u001b[39m_engine \u001b[38;5;241m=\u001b[39m \u001b[38;5;28;43mself\u001b[39;49m\u001b[38;5;241;43m.\u001b[39;49m\u001b[43m_make_engine\u001b[49m\u001b[43m(\u001b[49m\u001b[43mf\u001b[49m\u001b[43m,\u001b[49m\u001b[43m \u001b[49m\u001b[38;5;28;43mself\u001b[39;49m\u001b[38;5;241;43m.\u001b[39;49m\u001b[43mengine\u001b[49m\u001b[43m)\u001b[49m\n",
      "File \u001b[0;32m~/opt/anaconda3/lib/python3.9/site-packages/pandas/io/parsers/readers.py:1217\u001b[0m, in \u001b[0;36mTextFileReader._make_engine\u001b[0;34m(self, f, engine)\u001b[0m\n\u001b[1;32m   1213\u001b[0m     mode \u001b[38;5;241m=\u001b[39m \u001b[38;5;124m\"\u001b[39m\u001b[38;5;124mrb\u001b[39m\u001b[38;5;124m\"\u001b[39m\n\u001b[1;32m   1214\u001b[0m \u001b[38;5;66;03m# error: No overload variant of \"get_handle\" matches argument types\u001b[39;00m\n\u001b[1;32m   1215\u001b[0m \u001b[38;5;66;03m# \"Union[str, PathLike[str], ReadCsvBuffer[bytes], ReadCsvBuffer[str]]\"\u001b[39;00m\n\u001b[1;32m   1216\u001b[0m \u001b[38;5;66;03m# , \"str\", \"bool\", \"Any\", \"Any\", \"Any\", \"Any\", \"Any\"\u001b[39;00m\n\u001b[0;32m-> 1217\u001b[0m \u001b[38;5;28mself\u001b[39m\u001b[38;5;241m.\u001b[39mhandles \u001b[38;5;241m=\u001b[39m \u001b[43mget_handle\u001b[49m\u001b[43m(\u001b[49m\u001b[43m  \u001b[49m\u001b[38;5;66;43;03m# type: ignore[call-overload]\u001b[39;49;00m\n\u001b[1;32m   1218\u001b[0m \u001b[43m    \u001b[49m\u001b[43mf\u001b[49m\u001b[43m,\u001b[49m\n\u001b[1;32m   1219\u001b[0m \u001b[43m    \u001b[49m\u001b[43mmode\u001b[49m\u001b[43m,\u001b[49m\n\u001b[1;32m   1220\u001b[0m \u001b[43m    \u001b[49m\u001b[43mencoding\u001b[49m\u001b[38;5;241;43m=\u001b[39;49m\u001b[38;5;28;43mself\u001b[39;49m\u001b[38;5;241;43m.\u001b[39;49m\u001b[43moptions\u001b[49m\u001b[38;5;241;43m.\u001b[39;49m\u001b[43mget\u001b[49m\u001b[43m(\u001b[49m\u001b[38;5;124;43m\"\u001b[39;49m\u001b[38;5;124;43mencoding\u001b[39;49m\u001b[38;5;124;43m\"\u001b[39;49m\u001b[43m,\u001b[49m\u001b[43m \u001b[49m\u001b[38;5;28;43;01mNone\u001b[39;49;00m\u001b[43m)\u001b[49m\u001b[43m,\u001b[49m\n\u001b[1;32m   1221\u001b[0m \u001b[43m    \u001b[49m\u001b[43mcompression\u001b[49m\u001b[38;5;241;43m=\u001b[39;49m\u001b[38;5;28;43mself\u001b[39;49m\u001b[38;5;241;43m.\u001b[39;49m\u001b[43moptions\u001b[49m\u001b[38;5;241;43m.\u001b[39;49m\u001b[43mget\u001b[49m\u001b[43m(\u001b[49m\u001b[38;5;124;43m\"\u001b[39;49m\u001b[38;5;124;43mcompression\u001b[39;49m\u001b[38;5;124;43m\"\u001b[39;49m\u001b[43m,\u001b[49m\u001b[43m \u001b[49m\u001b[38;5;28;43;01mNone\u001b[39;49;00m\u001b[43m)\u001b[49m\u001b[43m,\u001b[49m\n\u001b[1;32m   1222\u001b[0m \u001b[43m    \u001b[49m\u001b[43mmemory_map\u001b[49m\u001b[38;5;241;43m=\u001b[39;49m\u001b[38;5;28;43mself\u001b[39;49m\u001b[38;5;241;43m.\u001b[39;49m\u001b[43moptions\u001b[49m\u001b[38;5;241;43m.\u001b[39;49m\u001b[43mget\u001b[49m\u001b[43m(\u001b[49m\u001b[38;5;124;43m\"\u001b[39;49m\u001b[38;5;124;43mmemory_map\u001b[39;49m\u001b[38;5;124;43m\"\u001b[39;49m\u001b[43m,\u001b[49m\u001b[43m \u001b[49m\u001b[38;5;28;43;01mFalse\u001b[39;49;00m\u001b[43m)\u001b[49m\u001b[43m,\u001b[49m\n\u001b[1;32m   1223\u001b[0m \u001b[43m    \u001b[49m\u001b[43mis_text\u001b[49m\u001b[38;5;241;43m=\u001b[39;49m\u001b[43mis_text\u001b[49m\u001b[43m,\u001b[49m\n\u001b[1;32m   1224\u001b[0m \u001b[43m    \u001b[49m\u001b[43merrors\u001b[49m\u001b[38;5;241;43m=\u001b[39;49m\u001b[38;5;28;43mself\u001b[39;49m\u001b[38;5;241;43m.\u001b[39;49m\u001b[43moptions\u001b[49m\u001b[38;5;241;43m.\u001b[39;49m\u001b[43mget\u001b[49m\u001b[43m(\u001b[49m\u001b[38;5;124;43m\"\u001b[39;49m\u001b[38;5;124;43mencoding_errors\u001b[39;49m\u001b[38;5;124;43m\"\u001b[39;49m\u001b[43m,\u001b[49m\u001b[43m \u001b[49m\u001b[38;5;124;43m\"\u001b[39;49m\u001b[38;5;124;43mstrict\u001b[39;49m\u001b[38;5;124;43m\"\u001b[39;49m\u001b[43m)\u001b[49m\u001b[43m,\u001b[49m\n\u001b[1;32m   1225\u001b[0m \u001b[43m    \u001b[49m\u001b[43mstorage_options\u001b[49m\u001b[38;5;241;43m=\u001b[39;49m\u001b[38;5;28;43mself\u001b[39;49m\u001b[38;5;241;43m.\u001b[39;49m\u001b[43moptions\u001b[49m\u001b[38;5;241;43m.\u001b[39;49m\u001b[43mget\u001b[49m\u001b[43m(\u001b[49m\u001b[38;5;124;43m\"\u001b[39;49m\u001b[38;5;124;43mstorage_options\u001b[39;49m\u001b[38;5;124;43m\"\u001b[39;49m\u001b[43m,\u001b[49m\u001b[43m \u001b[49m\u001b[38;5;28;43;01mNone\u001b[39;49;00m\u001b[43m)\u001b[49m\u001b[43m,\u001b[49m\n\u001b[1;32m   1226\u001b[0m \u001b[43m\u001b[49m\u001b[43m)\u001b[49m\n\u001b[1;32m   1227\u001b[0m \u001b[38;5;28;01massert\u001b[39;00m \u001b[38;5;28mself\u001b[39m\u001b[38;5;241m.\u001b[39mhandles \u001b[38;5;129;01mis\u001b[39;00m \u001b[38;5;129;01mnot\u001b[39;00m \u001b[38;5;28;01mNone\u001b[39;00m\n\u001b[1;32m   1228\u001b[0m f \u001b[38;5;241m=\u001b[39m \u001b[38;5;28mself\u001b[39m\u001b[38;5;241m.\u001b[39mhandles\u001b[38;5;241m.\u001b[39mhandle\n",
      "File \u001b[0;32m~/opt/anaconda3/lib/python3.9/site-packages/pandas/io/common.py:789\u001b[0m, in \u001b[0;36mget_handle\u001b[0;34m(path_or_buf, mode, encoding, compression, memory_map, is_text, errors, storage_options)\u001b[0m\n\u001b[1;32m    784\u001b[0m \u001b[38;5;28;01melif\u001b[39;00m \u001b[38;5;28misinstance\u001b[39m(handle, \u001b[38;5;28mstr\u001b[39m):\n\u001b[1;32m    785\u001b[0m     \u001b[38;5;66;03m# Check whether the filename is to be opened in binary mode.\u001b[39;00m\n\u001b[1;32m    786\u001b[0m     \u001b[38;5;66;03m# Binary mode does not support 'encoding' and 'newline'.\u001b[39;00m\n\u001b[1;32m    787\u001b[0m     \u001b[38;5;28;01mif\u001b[39;00m ioargs\u001b[38;5;241m.\u001b[39mencoding \u001b[38;5;129;01mand\u001b[39;00m \u001b[38;5;124m\"\u001b[39m\u001b[38;5;124mb\u001b[39m\u001b[38;5;124m\"\u001b[39m \u001b[38;5;129;01mnot\u001b[39;00m \u001b[38;5;129;01min\u001b[39;00m ioargs\u001b[38;5;241m.\u001b[39mmode:\n\u001b[1;32m    788\u001b[0m         \u001b[38;5;66;03m# Encoding\u001b[39;00m\n\u001b[0;32m--> 789\u001b[0m         handle \u001b[38;5;241m=\u001b[39m \u001b[38;5;28;43mopen\u001b[39;49m\u001b[43m(\u001b[49m\n\u001b[1;32m    790\u001b[0m \u001b[43m            \u001b[49m\u001b[43mhandle\u001b[49m\u001b[43m,\u001b[49m\n\u001b[1;32m    791\u001b[0m \u001b[43m            \u001b[49m\u001b[43mioargs\u001b[49m\u001b[38;5;241;43m.\u001b[39;49m\u001b[43mmode\u001b[49m\u001b[43m,\u001b[49m\n\u001b[1;32m    792\u001b[0m \u001b[43m            \u001b[49m\u001b[43mencoding\u001b[49m\u001b[38;5;241;43m=\u001b[39;49m\u001b[43mioargs\u001b[49m\u001b[38;5;241;43m.\u001b[39;49m\u001b[43mencoding\u001b[49m\u001b[43m,\u001b[49m\n\u001b[1;32m    793\u001b[0m \u001b[43m            \u001b[49m\u001b[43merrors\u001b[49m\u001b[38;5;241;43m=\u001b[39;49m\u001b[43merrors\u001b[49m\u001b[43m,\u001b[49m\n\u001b[1;32m    794\u001b[0m \u001b[43m            \u001b[49m\u001b[43mnewline\u001b[49m\u001b[38;5;241;43m=\u001b[39;49m\u001b[38;5;124;43m\"\u001b[39;49m\u001b[38;5;124;43m\"\u001b[39;49m\u001b[43m,\u001b[49m\n\u001b[1;32m    795\u001b[0m \u001b[43m        \u001b[49m\u001b[43m)\u001b[49m\n\u001b[1;32m    796\u001b[0m     \u001b[38;5;28;01melse\u001b[39;00m:\n\u001b[1;32m    797\u001b[0m         \u001b[38;5;66;03m# Binary mode\u001b[39;00m\n\u001b[1;32m    798\u001b[0m         handle \u001b[38;5;241m=\u001b[39m \u001b[38;5;28mopen\u001b[39m(handle, ioargs\u001b[38;5;241m.\u001b[39mmode)\n",
      "\u001b[0;31mFileNotFoundError\u001b[0m: [Errno 2] No such file or directory: 'EVs.csv'"
     ]
    }
   ],
   "source": [
    "df = pd.read_csv('EVs.csv')"
   ]
  },
  {
   "cell_type": "code",
   "execution_count": 19,
   "id": "967bba76",
   "metadata": {},
   "outputs": [
    {
     "ename": "NameError",
     "evalue": "name 'df' is not defined",
     "output_type": "error",
     "traceback": [
      "\u001b[0;31m---------------------------------------------------------------------------\u001b[0m",
      "\u001b[0;31mNameError\u001b[0m                                 Traceback (most recent call last)",
      "Input \u001b[0;32mIn [19]\u001b[0m, in \u001b[0;36m<cell line: 1>\u001b[0;34m()\u001b[0m\n\u001b[0;32m----> 1\u001b[0m \u001b[43mdf\u001b[49m\u001b[38;5;241m.\u001b[39mhead(\u001b[38;5;241m11\u001b[39m)\u001b[38;5;241m.\u001b[39mT\n",
      "\u001b[0;31mNameError\u001b[0m: name 'df' is not defined"
     ]
    }
   ],
   "source": [
    "df.head(11).T"
   ]
  },
  {
   "cell_type": "code",
   "execution_count": 21,
   "id": "f9351404",
   "metadata": {},
   "outputs": [
    {
     "name": "stdout",
     "output_type": "stream",
     "text": [
      "Collecting textblob\n",
      "  Downloading textblob-0.17.1-py2.py3-none-any.whl (636 kB)\n",
      "\u001b[K     |████████████████████████████████| 636 kB 2.5 MB/s eta 0:00:01\n",
      "\u001b[?25hRequirement already satisfied: nltk>=3.1 in /Users/saori/opt/anaconda3/lib/python3.9/site-packages (from textblob) (3.7)\n",
      "Requirement already satisfied: tqdm in /Users/saori/opt/anaconda3/lib/python3.9/site-packages (from nltk>=3.1->textblob) (4.64.0)\n",
      "Requirement already satisfied: click in /Users/saori/opt/anaconda3/lib/python3.9/site-packages (from nltk>=3.1->textblob) (8.0.4)\n",
      "Requirement already satisfied: regex>=2021.8.3 in /Users/saori/opt/anaconda3/lib/python3.9/site-packages (from nltk>=3.1->textblob) (2022.3.15)\n",
      "Requirement already satisfied: joblib in /Users/saori/opt/anaconda3/lib/python3.9/site-packages (from nltk>=3.1->textblob) (1.1.0)\n",
      "Installing collected packages: textblob\n",
      "Successfully installed textblob-0.17.1\n",
      "Note: you may need to restart the kernel to use updated packages.\n"
     ]
    }
   ],
   "source": [
    "pip install textblob"
   ]
  },
  {
   "cell_type": "code",
   "execution_count": 22,
   "id": "4255de7b",
   "metadata": {},
   "outputs": [
    {
     "name": "stdout",
     "output_type": "stream",
     "text": [
      "Requirement already satisfied: tweepy in /Users/saori/opt/anaconda3/lib/python3.9/site-packages (4.12.1)\n",
      "Requirement already satisfied: requests<3,>=2.27.0 in /Users/saori/opt/anaconda3/lib/python3.9/site-packages (from tweepy) (2.27.1)\n",
      "Requirement already satisfied: requests-oauthlib<2,>=1.2.0 in /Users/saori/opt/anaconda3/lib/python3.9/site-packages (from tweepy) (1.3.1)\n",
      "Requirement already satisfied: oauthlib<4,>=3.2.0 in /Users/saori/opt/anaconda3/lib/python3.9/site-packages (from tweepy) (3.2.2)\n",
      "Requirement already satisfied: idna<4,>=2.5 in /Users/saori/opt/anaconda3/lib/python3.9/site-packages (from requests<3,>=2.27.0->tweepy) (3.3)\n",
      "Requirement already satisfied: urllib3<1.27,>=1.21.1 in /Users/saori/opt/anaconda3/lib/python3.9/site-packages (from requests<3,>=2.27.0->tweepy) (1.26.9)\n",
      "Requirement already satisfied: certifi>=2017.4.17 in /Users/saori/opt/anaconda3/lib/python3.9/site-packages (from requests<3,>=2.27.0->tweepy) (2021.10.8)\n",
      "Requirement already satisfied: charset-normalizer~=2.0.0 in /Users/saori/opt/anaconda3/lib/python3.9/site-packages (from requests<3,>=2.27.0->tweepy) (2.0.4)\n",
      "Note: you may need to restart the kernel to use updated packages.\n"
     ]
    }
   ],
   "source": [
    "pip install tweepy"
   ]
  },
  {
   "cell_type": "code",
   "execution_count": 24,
   "id": "9183897f",
   "metadata": {},
   "outputs": [
    {
     "name": "stdout",
     "output_type": "stream",
     "text": [
      "Collecting pycountry\n",
      "  Downloading pycountry-22.3.5.tar.gz (10.1 MB)\n",
      "\u001b[K     |████████████████████████████████| 10.1 MB 2.6 MB/s eta 0:00:01\n",
      "\u001b[?25h  Installing build dependencies ... \u001b[?25ldone\n",
      "\u001b[?25h  Getting requirements to build wheel ... \u001b[?25ldone\n",
      "\u001b[?25h    Preparing wheel metadata ... \u001b[?25ldone\n",
      "\u001b[?25hRequirement already satisfied: setuptools in /Users/saori/opt/anaconda3/lib/python3.9/site-packages (from pycountry) (61.2.0)\n",
      "Building wheels for collected packages: pycountry\n",
      "  Building wheel for pycountry (PEP 517) ... \u001b[?25ldone\n",
      "\u001b[?25h  Created wheel for pycountry: filename=pycountry-22.3.5-py2.py3-none-any.whl size=10681832 sha256=3061eb0cf5341c5badc841aa4dfd08096bda33edfaea7862ec4bc6185db2aebe\n",
      "  Stored in directory: /Users/saori/Library/Caches/pip/wheels/47/15/92/e6dc85fcb0686c82e1edbcfdf80cfe4808c058813fed0baa8f\n",
      "Successfully built pycountry\n",
      "Installing collected packages: pycountry\n",
      "Successfully installed pycountry-22.3.5\n",
      "Note: you may need to restart the kernel to use updated packages.\n"
     ]
    }
   ],
   "source": [
    "pip install pycountry"
   ]
  },
  {
   "cell_type": "code",
   "execution_count": 26,
   "id": "d90bddb1",
   "metadata": {},
   "outputs": [
    {
     "name": "stdout",
     "output_type": "stream",
     "text": [
      "Collecting langdetect\n",
      "  Downloading langdetect-1.0.9.tar.gz (981 kB)\n",
      "\u001b[K     |████████████████████████████████| 981 kB 2.6 MB/s eta 0:00:01\n",
      "\u001b[?25hRequirement already satisfied: six in /Users/saori/opt/anaconda3/lib/python3.9/site-packages (from langdetect) (1.16.0)\n",
      "Building wheels for collected packages: langdetect\n",
      "  Building wheel for langdetect (setup.py) ... \u001b[?25ldone\n",
      "\u001b[?25h  Created wheel for langdetect: filename=langdetect-1.0.9-py3-none-any.whl size=993242 sha256=d8b0de8463b3944f5e07b2ec9df47c117351bb766edb352f4694bebd84917f68\n",
      "  Stored in directory: /Users/saori/Library/Caches/pip/wheels/d1/c1/d9/7e068de779d863bc8f8fc9467d85e25cfe47fa5051fff1a1bb\n",
      "Successfully built langdetect\n",
      "Installing collected packages: langdetect\n",
      "Successfully installed langdetect-1.0.9\n",
      "Note: you may need to restart the kernel to use updated packages.\n"
     ]
    }
   ],
   "source": [
    "pip install langdetect"
   ]
  },
  {
   "cell_type": "code",
   "execution_count": 35,
   "id": "84abea43",
   "metadata": {},
   "outputs": [
    {
     "name": "stdout",
     "output_type": "stream",
     "text": [
      "Collecting searchtweets\n",
      "  Downloading searchtweets-1.7.6-py3-none-any.whl (29 kB)\n",
      "Requirement already satisfied: requests in /Users/saori/opt/anaconda3/lib/python3.9/site-packages (from searchtweets) (2.27.1)\n",
      "Requirement already satisfied: pyyaml in /Users/saori/opt/anaconda3/lib/python3.9/site-packages (from searchtweets) (6.0)\n",
      "Collecting tweet-parser\n",
      "  Downloading tweet_parser-1.13.2-py3-none-any.whl (34 kB)\n",
      "Requirement already satisfied: idna<4,>=2.5 in /Users/saori/opt/anaconda3/lib/python3.9/site-packages (from requests->searchtweets) (3.3)\n",
      "Requirement already satisfied: urllib3<1.27,>=1.21.1 in /Users/saori/opt/anaconda3/lib/python3.9/site-packages (from requests->searchtweets) (1.26.9)\n",
      "Requirement already satisfied: charset-normalizer~=2.0.0 in /Users/saori/opt/anaconda3/lib/python3.9/site-packages (from requests->searchtweets) (2.0.4)\n",
      "Requirement already satisfied: certifi>=2017.4.17 in /Users/saori/opt/anaconda3/lib/python3.9/site-packages (from requests->searchtweets) (2021.10.8)\n",
      "Installing collected packages: tweet-parser, searchtweets\n",
      "Successfully installed searchtweets-1.7.6 tweet-parser-1.13.2\n",
      "Note: you may need to restart the kernel to use updated packages.\n"
     ]
    }
   ],
   "source": [
    "pip install searchtweets\n"
   ]
  },
  {
   "cell_type": "code",
   "execution_count": 65,
   "id": "16a809d8",
   "metadata": {},
   "outputs": [
    {
     "name": "stdout",
     "output_type": "stream",
     "text": [
      "Requirement already satisfied: matplotlib in /Users/saori/opt/anaconda3/lib/python3.9/site-packages (3.5.1)\n",
      "Requirement already satisfied: pyparsing>=2.2.1 in /Users/saori/opt/anaconda3/lib/python3.9/site-packages (from matplotlib) (3.0.4)\n",
      "Requirement already satisfied: pillow>=6.2.0 in /Users/saori/opt/anaconda3/lib/python3.9/site-packages (from matplotlib) (9.0.1)\n",
      "Requirement already satisfied: cycler>=0.10 in /Users/saori/opt/anaconda3/lib/python3.9/site-packages (from matplotlib) (0.11.0)\n",
      "Requirement already satisfied: kiwisolver>=1.0.1 in /Users/saori/opt/anaconda3/lib/python3.9/site-packages (from matplotlib) (1.3.2)\n",
      "Requirement already satisfied: fonttools>=4.22.0 in /Users/saori/opt/anaconda3/lib/python3.9/site-packages (from matplotlib) (4.25.0)\n",
      "Requirement already satisfied: python-dateutil>=2.7 in /Users/saori/opt/anaconda3/lib/python3.9/site-packages (from matplotlib) (2.8.2)\n",
      "Requirement already satisfied: packaging>=20.0 in /Users/saori/opt/anaconda3/lib/python3.9/site-packages (from matplotlib) (21.3)\n",
      "Requirement already satisfied: numpy>=1.17 in /Users/saori/opt/anaconda3/lib/python3.9/site-packages (from matplotlib) (1.21.5)\n",
      "Requirement already satisfied: six>=1.5 in /Users/saori/opt/anaconda3/lib/python3.9/site-packages (from python-dateutil>=2.7->matplotlib) (1.16.0)\n",
      "Note: you may need to restart the kernel to use updated packages.\n"
     ]
    }
   ],
   "source": [
    "pip install matplotlib\n"
   ]
  },
  {
   "cell_type": "code",
   "execution_count": 57,
   "id": "fbb66458",
   "metadata": {},
   "outputs": [],
   "source": [
    "from textblob import TextBlob\n",
    "import sys\n",
    "import tweepy\n",
    "import matplotlib.pyplot as plt\n",
    "import pandas as pd\n",
    "import numpy as np\n",
    "import os\n",
    "import nltk\n",
    "import pycountry\n",
    "import re\n",
    "import string\n",
    "\n",
    "from wordcloud import WordCloud, STOPWORDS\n",
    "from PIL import Image\n",
    "from nltk.sentiment.vader import SentimentIntensityAnalyzer\n",
    "from langdetect import detect\n",
    "from nltk.stem import SnowballStemmer\n",
    "from nltk.sentiment.vader import SentimentIntensityAnalyzer\n",
    "from sklearn.feature_extraction.text import CountVectorizer\n"
   ]
  },
  {
   "cell_type": "code",
   "execution_count": null,
   "id": "6aaeb34d",
   "metadata": {},
   "outputs": [],
   "source": [
    "# Authentication\n",
    "consumerKey = \"Type your consumer key here\"\n",
    "consumerSecret = \"Type your consumer secret here\"\n",
    "accessToken = \"Type your accedd token here\"\n",
    "accessTokenSecret = \"Type your access token secret here\"\n",
    "\n",
    "auth = tweepy.OAuthHandler(consumerKey, consumerSecret)\n",
    "auth.set_access_token(accessToken, accessTokenSecret)\n",
    "api = tweepy.API(auth)\n"
   ]
  },
  {
   "cell_type": "code",
   "execution_count": 37,
   "id": "92dff7e6",
   "metadata": {},
   "outputs": [],
   "source": [
    "api_key = 'vcCmOETCASdUd0CpAdCtAT1H7'\n",
    "\n",
    "api_secret = '8KEdeRxbIiQdRzC5oQFpJreC6b87I3LN2Sq6cwLXlkBB1aEGTw'\n",
    "\n",
    "bearer_token = 'AAAAAAAAAAAAAAAAAAAAAKnFRAEAAAAA0WTW5LZ0FZm0YaTCHQpjYW2BzmI%3DAis5txxF8CKfT5UfsbcG9UznM61bmjCuN6FqlZwqJIjycjw9Hl'\n",
    "\n",
    "access_token = '1410231389220376584-B2PrnZFEXKU6coWb3AEWGPODV4YJ9F'\n",
    "\n",
    "access_token_secret = 'PPwZ8sh80xzCPochgHytGCzk3USP2RQkmUeRPqq2LqiHR'\n",
    "\n",
    "auth = tweepy.OAuthHandler(api_key, api_secret)\n",
    "auth.set_access_token(access_token, access_token_secret)\n",
    "api = tweepy.API(auth)"
   ]
  },
  {
   "cell_type": "code",
   "execution_count": 40,
   "id": "2eb1d3c2",
   "metadata": {},
   "outputs": [
    {
     "name": "stdout",
     "output_type": "stream",
     "text": [
      "Please enter keyword or hashtag to search: electric car\n",
      "Please enter how many tweets to analyze: 2000\n"
     ]
    }
   ],
   "source": [
    "#Sentiment Analysis\n",
    "\n",
    "def percentage(part,whole):\n",
    "    return 100 * float(part)/float(whole) \n",
    "\n",
    "keyword = input(\"Please enter keyword or hashtag to search: \")\n",
    "noOfTweet = int(input (\"Please enter how many tweets to analyze: \"))\n",
    "\n",
    "\n",
    "tweets = tweepy.Cursor(api.search_tweets, q=keyword).items(noOfTweet)\n",
    "positive  = 0\n",
    "negative = 0\n",
    "neutral = 0\n",
    "polarity = 0\n",
    "tweet_list = []\n",
    "neutral_list = []\n",
    "negative_list = []\n",
    "positive_list = []\n",
    "\n",
    "for tweet in tweets:\n",
    "    \n",
    "    #print(tweet.text)\n",
    "    tweet_list.append(tweet.text)\n",
    "    analysis = TextBlob(tweet.text)\n",
    "    score = SentimentIntensityAnalyzer().polarity_scores(tweet.text)\n",
    "    neg = score['neg']\n",
    "    neu = score['neu']\n",
    "    pos = score['pos']\n",
    "    comp = score['compound']\n",
    "    polarity += analysis.sentiment.polarity\n",
    "    \n",
    "    if neg > pos:\n",
    "        negative_list.append(tweet.text)\n",
    "        negative += 1\n",
    "\n",
    "    elif pos > neg:\n",
    "        positive_list.append(tweet.text)\n",
    "        positive += 1\n",
    "    \n",
    "    elif pos == neg:\n",
    "        neutral_list.append(tweet.text)\n",
    "        neutral += 1\n",
    "\n",
    "positive = percentage(positive, noOfTweet)\n",
    "negative = percentage(negative, noOfTweet)\n",
    "neutral = percentage(neutral, noOfTweet)\n",
    "polarity = percentage(polarity, noOfTweet)\n",
    "positive = format(positive, '.1f')\n",
    "negative = format(negative, '.1f')\n",
    "neutral = format(neutral, '.1f')\n"
   ]
  },
  {
   "cell_type": "code",
   "execution_count": 41,
   "id": "d4d54e0a",
   "metadata": {},
   "outputs": [
    {
     "name": "stdout",
     "output_type": "stream",
     "text": [
      "total number:  2000\n",
      "positive number:  677\n",
      "negative number:  603\n",
      "neutral number:  720\n"
     ]
    }
   ],
   "source": [
    "\n",
    "#Number of Tweets (Total, Positive, Negative, Neutral)\n",
    "tweet_list = pd.DataFrame(tweet_list)\n",
    "neutral_list = pd.DataFrame(neutral_list)\n",
    "negative_list = pd.DataFrame(negative_list)\n",
    "positive_list = pd.DataFrame(positive_list)\n",
    "print(\"total number: \",len(tweet_list))\n",
    "print(\"positive number: \",len(positive_list))\n",
    "print(\"negative number: \", len(negative_list))\n",
    "print(\"neutral number: \",len(neutral_list))"
   ]
  },
  {
   "cell_type": "code",
   "execution_count": 42,
   "id": "20ce6f6b",
   "metadata": {},
   "outputs": [
    {
     "data": {
      "text/html": [
       "<div>\n",
       "<style scoped>\n",
       "    .dataframe tbody tr th:only-of-type {\n",
       "        vertical-align: middle;\n",
       "    }\n",
       "\n",
       "    .dataframe tbody tr th {\n",
       "        vertical-align: top;\n",
       "    }\n",
       "\n",
       "    .dataframe thead th {\n",
       "        text-align: right;\n",
       "    }\n",
       "</style>\n",
       "<table border=\"1\" class=\"dataframe\">\n",
       "  <thead>\n",
       "    <tr style=\"text-align: right;\">\n",
       "      <th></th>\n",
       "      <th>0</th>\n",
       "    </tr>\n",
       "  </thead>\n",
       "  <tbody>\n",
       "    <tr>\n",
       "      <th>0</th>\n",
       "      <td>RT @WayneDupreeShow: Sorry it’s -40 degrees ou...</td>\n",
       "    </tr>\n",
       "    <tr>\n",
       "      <th>1</th>\n",
       "      <td>RT @Blazespage: So, most of you know we're 100...</td>\n",
       "    </tr>\n",
       "    <tr>\n",
       "      <th>2</th>\n",
       "      <td>RT @NIOAdmirer: Germany's EnBW, which invests ...</td>\n",
       "    </tr>\n",
       "    <tr>\n",
       "      <th>3</th>\n",
       "      <td>RT @WayneDupreeShow: Sorry it’s -40 degrees ou...</td>\n",
       "    </tr>\n",
       "    <tr>\n",
       "      <th>4</th>\n",
       "      <td>@uneed2calmdown @elonmusk @SenatorSinema oh yo...</td>\n",
       "    </tr>\n",
       "    <tr>\n",
       "      <th>...</th>\n",
       "      <td>...</td>\n",
       "    </tr>\n",
       "    <tr>\n",
       "      <th>1995</th>\n",
       "      <td>RT @RANDCorporation: China could one day use c...</td>\n",
       "    </tr>\n",
       "    <tr>\n",
       "      <th>1996</th>\n",
       "      <td>I need the electric dominos car</td>\n",
       "    </tr>\n",
       "    <tr>\n",
       "      <th>1997</th>\n",
       "      <td>RT @RobotAndAIWorld: Introducing 19_19, Citroë...</td>\n",
       "    </tr>\n",
       "    <tr>\n",
       "      <th>1998</th>\n",
       "      <td>China could one day use cobalt—a key material ...</td>\n",
       "    </tr>\n",
       "    <tr>\n",
       "      <th>1999</th>\n",
       "      <td>RT @segundoatdell: An amazing fully-electric a...</td>\n",
       "    </tr>\n",
       "  </tbody>\n",
       "</table>\n",
       "<p>2000 rows × 1 columns</p>\n",
       "</div>"
      ],
      "text/plain": [
       "                                                      0\n",
       "0     RT @WayneDupreeShow: Sorry it’s -40 degrees ou...\n",
       "1     RT @Blazespage: So, most of you know we're 100...\n",
       "2     RT @NIOAdmirer: Germany's EnBW, which invests ...\n",
       "3     RT @WayneDupreeShow: Sorry it’s -40 degrees ou...\n",
       "4     @uneed2calmdown @elonmusk @SenatorSinema oh yo...\n",
       "...                                                 ...\n",
       "1995  RT @RANDCorporation: China could one day use c...\n",
       "1996                    I need the electric dominos car\n",
       "1997  RT @RobotAndAIWorld: Introducing 19_19, Citroë...\n",
       "1998  China could one day use cobalt—a key material ...\n",
       "1999  RT @segundoatdell: An amazing fully-electric a...\n",
       "\n",
       "[2000 rows x 1 columns]"
      ]
     },
     "execution_count": 42,
     "metadata": {},
     "output_type": "execute_result"
    }
   ],
   "source": [
    "tweet_list\n"
   ]
  },
  {
   "cell_type": "code",
   "execution_count": 43,
   "id": "16356fce",
   "metadata": {},
   "outputs": [
    {
     "data": {
      "image/png": "[encoded data removed]",
      "text/plain": [
       "<Figure size 432x288 with 1 Axes>"
      ]
     },
     "metadata": {},
     "output_type": "display_data"
    }
   ],
   "source": [
    "#Creating PieCart\n",
    "\n",
    "labels = ['Positive ['+str(positive)+'%]' , 'Neutral ['+str(neutral)+'%]','Negative ['+str(negative)+'%]']\n",
    "sizes = [positive, neutral, negative]\n",
    "colors = ['yellowgreen', 'blue','red']\n",
    "patches, texts = plt.pie(sizes,colors=colors, startangle=90)\n",
    "plt.style.use('default')\n",
    "plt.legend(labels)\n",
    "plt.title(\"Sentiment Analysis Result for keyword=  \"+keyword+\"\" )\n",
    "plt.axis('equal')\n",
    "plt.show()\n",
    "\n"
   ]
  },
  {
   "cell_type": "code",
   "execution_count": 44,
   "id": "5e306554",
   "metadata": {},
   "outputs": [],
   "source": [
    "tweet_list.drop_duplicates(inplace = True)\n"
   ]
  },
  {
   "cell_type": "code",
   "execution_count": 47,
   "id": "9888c348",
   "metadata": {},
   "outputs": [
    {
     "data": {
      "text/html": [
       "<div>\n",
       "<style scoped>\n",
       "    .dataframe tbody tr th:only-of-type {\n",
       "        vertical-align: middle;\n",
       "    }\n",
       "\n",
       "    .dataframe tbody tr th {\n",
       "        vertical-align: top;\n",
       "    }\n",
       "\n",
       "    .dataframe thead th {\n",
       "        text-align: right;\n",
       "    }\n",
       "</style>\n",
       "<table border=\"1\" class=\"dataframe\">\n",
       "  <thead>\n",
       "    <tr style=\"text-align: right;\">\n",
       "      <th></th>\n",
       "      <th>0</th>\n",
       "      <th>text</th>\n",
       "    </tr>\n",
       "  </thead>\n",
       "  <tbody>\n",
       "    <tr>\n",
       "      <th>0</th>\n",
       "      <td>RT @WayneDupreeShow: Sorry it’s -40 degrees ou...</td>\n",
       "      <td>RT @WayneDupreeShow: Sorry it’s -40 degrees ou...</td>\n",
       "    </tr>\n",
       "    <tr>\n",
       "      <th>1</th>\n",
       "      <td>RT @Blazespage: So, most of you know we're 100...</td>\n",
       "      <td>RT @Blazespage: So, most of you know we're 100...</td>\n",
       "    </tr>\n",
       "    <tr>\n",
       "      <th>2</th>\n",
       "      <td>RT @NIOAdmirer: Germany's EnBW, which invests ...</td>\n",
       "      <td>RT @NIOAdmirer: Germany's EnBW, which invests ...</td>\n",
       "    </tr>\n",
       "    <tr>\n",
       "      <th>4</th>\n",
       "      <td>@uneed2calmdown @elonmusk @SenatorSinema oh yo...</td>\n",
       "      <td>@uneed2calmdown @elonmusk @SenatorSinema oh yo...</td>\n",
       "    </tr>\n",
       "    <tr>\n",
       "      <th>5</th>\n",
       "      <td>1st Commercially Available Electric, Autonomou...</td>\n",
       "      <td>1st Commercially Available Electric, Autonomou...</td>\n",
       "    </tr>\n",
       "    <tr>\n",
       "      <th>...</th>\n",
       "      <td>...</td>\n",
       "      <td>...</td>\n",
       "    </tr>\n",
       "    <tr>\n",
       "      <th>1993</th>\n",
       "      <td>RT @mashable: This electric flying car could b...</td>\n",
       "      <td>RT @mashable: This electric flying car could b...</td>\n",
       "    </tr>\n",
       "    <tr>\n",
       "      <th>1996</th>\n",
       "      <td>I need the electric dominos car</td>\n",
       "      <td>I need the electric dominos car</td>\n",
       "    </tr>\n",
       "    <tr>\n",
       "      <th>1997</th>\n",
       "      <td>RT @RobotAndAIWorld: Introducing 19_19, Citroë...</td>\n",
       "      <td>RT @RobotAndAIWorld: Introducing 19_19, Citroë...</td>\n",
       "    </tr>\n",
       "    <tr>\n",
       "      <th>1998</th>\n",
       "      <td>China could one day use cobalt—a key material ...</td>\n",
       "      <td>China could one day use cobalt—a key material ...</td>\n",
       "    </tr>\n",
       "    <tr>\n",
       "      <th>1999</th>\n",
       "      <td>RT @segundoatdell: An amazing fully-electric a...</td>\n",
       "      <td>RT @segundoatdell: An amazing fully-electric a...</td>\n",
       "    </tr>\n",
       "  </tbody>\n",
       "</table>\n",
       "<p>1201 rows × 2 columns</p>\n",
       "</div>"
      ],
      "text/plain": [
       "                                                      0  \\\n",
       "0     RT @WayneDupreeShow: Sorry it’s -40 degrees ou...   \n",
       "1     RT @Blazespage: So, most of you know we're 100...   \n",
       "2     RT @NIOAdmirer: Germany's EnBW, which invests ...   \n",
       "4     @uneed2calmdown @elonmusk @SenatorSinema oh yo...   \n",
       "5     1st Commercially Available Electric, Autonomou...   \n",
       "...                                                 ...   \n",
       "1993  RT @mashable: This electric flying car could b...   \n",
       "1996                    I need the electric dominos car   \n",
       "1997  RT @RobotAndAIWorld: Introducing 19_19, Citroë...   \n",
       "1998  China could one day use cobalt—a key material ...   \n",
       "1999  RT @segundoatdell: An amazing fully-electric a...   \n",
       "\n",
       "                                                   text  \n",
       "0     RT @WayneDupreeShow: Sorry it’s -40 degrees ou...  \n",
       "1     RT @Blazespage: So, most of you know we're 100...  \n",
       "2     RT @NIOAdmirer: Germany's EnBW, which invests ...  \n",
       "4     @uneed2calmdown @elonmusk @SenatorSinema oh yo...  \n",
       "5     1st Commercially Available Electric, Autonomou...  \n",
       "...                                                 ...  \n",
       "1993  RT @mashable: This electric flying car could b...  \n",
       "1996                    I need the electric dominos car  \n",
       "1997  RT @RobotAndAIWorld: Introducing 19_19, Citroë...  \n",
       "1998  China could one day use cobalt—a key material ...  \n",
       "1999  RT @segundoatdell: An amazing fully-electric a...  \n",
       "\n",
       "[1201 rows x 2 columns]"
      ]
     },
     "execution_count": 47,
     "metadata": {},
     "output_type": "execute_result"
    }
   ],
   "source": [
    "tw_list = pd.DataFrame(tweet_list)\n",
    "tw_list[\"text\"] = tw_list[0]\n",
    "tw_list"
   ]
  },
  {
   "cell_type": "code",
   "execution_count": 48,
   "id": "2481364a",
   "metadata": {},
   "outputs": [
    {
     "data": {
      "text/html": [
       "<div>\n",
       "<style scoped>\n",
       "    .dataframe tbody tr th:only-of-type {\n",
       "        vertical-align: middle;\n",
       "    }\n",
       "\n",
       "    .dataframe tbody tr th {\n",
       "        vertical-align: top;\n",
       "    }\n",
       "\n",
       "    .dataframe thead th {\n",
       "        text-align: right;\n",
       "    }\n",
       "</style>\n",
       "<table border=\"1\" class=\"dataframe\">\n",
       "  <thead>\n",
       "    <tr style=\"text-align: right;\">\n",
       "      <th></th>\n",
       "      <th>0</th>\n",
       "      <th>text</th>\n",
       "    </tr>\n",
       "  </thead>\n",
       "  <tbody>\n",
       "    <tr>\n",
       "      <th>0</th>\n",
       "      <td>RT @WayneDupreeShow: Sorry it’s -40 degrees ou...</td>\n",
       "      <td>sorry it s  40 degrees outside  but you can t...</td>\n",
       "    </tr>\n",
       "    <tr>\n",
       "      <th>1</th>\n",
       "      <td>RT @Blazespage: So, most of you know we're 100...</td>\n",
       "      <td>so  most of you know we re 100  off grid here...</td>\n",
       "    </tr>\n",
       "    <tr>\n",
       "      <th>2</th>\n",
       "      <td>RT @NIOAdmirer: Germany's EnBW, which invests ...</td>\n",
       "      <td>germany s enbw  which invests more than 100 m...</td>\n",
       "    </tr>\n",
       "    <tr>\n",
       "      <th>4</th>\n",
       "      <td>@uneed2calmdown @elonmusk @SenatorSinema oh yo...</td>\n",
       "      <td>oh you hate the electric car man now tha...</td>\n",
       "    </tr>\n",
       "    <tr>\n",
       "      <th>5</th>\n",
       "      <td>1st Commercially Available Electric, Autonomou...</td>\n",
       "      <td>1st commercially available electric  autonomou...</td>\n",
       "    </tr>\n",
       "    <tr>\n",
       "      <th>6</th>\n",
       "      <td>The cold already takes half the battery life. ...</td>\n",
       "      <td>the cold already takes half the battery life  ...</td>\n",
       "    </tr>\n",
       "    <tr>\n",
       "      <th>7</th>\n",
       "      <td>@elonmusk @Cernovich @annecollier @eirliani @p...</td>\n",
       "      <td>lesley is tesla gonna design an elec...</td>\n",
       "    </tr>\n",
       "    <tr>\n",
       "      <th>8</th>\n",
       "      <td>RT @kos_data: Thursday in Balkans:\\n\\n🇽🇰 incre...</td>\n",
       "      <td>thursday in balkans      increase police forc...</td>\n",
       "    </tr>\n",
       "    <tr>\n",
       "      <th>9</th>\n",
       "      <td>RT @TheFestiveOwl: GIVEAWAY — @Electric_Forest...</td>\n",
       "      <td>giveaway     forest reveals 2023 lineup      ...</td>\n",
       "    </tr>\n",
       "    <tr>\n",
       "      <th>12</th>\n",
       "      <td>RT @Uh_ohhhhhhh: #原神 ＃空荧 ＃aelumi \\n\"It's ugly ...</td>\n",
       "      <td>aelumi   it s ugly for a man to sit ...</td>\n",
       "    </tr>\n",
       "  </tbody>\n",
       "</table>\n",
       "</div>"
      ],
      "text/plain": [
       "                                                    0  \\\n",
       "0   RT @WayneDupreeShow: Sorry it’s -40 degrees ou...   \n",
       "1   RT @Blazespage: So, most of you know we're 100...   \n",
       "2   RT @NIOAdmirer: Germany's EnBW, which invests ...   \n",
       "4   @uneed2calmdown @elonmusk @SenatorSinema oh yo...   \n",
       "5   1st Commercially Available Electric, Autonomou...   \n",
       "6   The cold already takes half the battery life. ...   \n",
       "7   @elonmusk @Cernovich @annecollier @eirliani @p...   \n",
       "8   RT @kos_data: Thursday in Balkans:\\n\\n🇽🇰 incre...   \n",
       "9   RT @TheFestiveOwl: GIVEAWAY — @Electric_Forest...   \n",
       "12  RT @Uh_ohhhhhhh: #原神 ＃空荧 ＃aelumi \\n\"It's ugly ...   \n",
       "\n",
       "                                                 text  \n",
       "0    sorry it s  40 degrees outside  but you can t...  \n",
       "1    so  most of you know we re 100  off grid here...  \n",
       "2    germany s enbw  which invests more than 100 m...  \n",
       "4         oh you hate the electric car man now tha...  \n",
       "5   1st commercially available electric  autonomou...  \n",
       "6   the cold already takes half the battery life  ...  \n",
       "7             lesley is tesla gonna design an elec...  \n",
       "8    thursday in balkans      increase police forc...  \n",
       "9    giveaway     forest reveals 2023 lineup      ...  \n",
       "12            aelumi   it s ugly for a man to sit ...  "
      ]
     },
     "execution_count": 48,
     "metadata": {},
     "output_type": "execute_result"
    }
   ],
   "source": [
    "#Cleaning Text (RT, Punctuation etc)\n",
    "\n",
    "#Creating new dataframe and new features\n",
    "tw_list = pd.DataFrame(tweet_list)\n",
    "tw_list[\"text\"] = tw_list[0]\n",
    "\n",
    "#Removing RT, Punctuation etc\n",
    "remove_rt = lambda x: re.sub('RT @\\w+: ',\" \",x)\n",
    "rt = lambda x: re.sub(\"(@[A-Za-z0-9]+)|([^0-9A-Za-z \\t])|(\\w+:\\/\\/\\S+)\",\" \",x)\n",
    "tw_list[\"text\"] = tw_list.text.map(remove_rt).map(rt)\n",
    "tw_list[\"text\"] = tw_list.text.str.lower()\n",
    "tw_list.head(10)\n"
   ]
  },
  {
   "cell_type": "code",
   "execution_count": 49,
   "id": "fec3b028",
   "metadata": {},
   "outputs": [
    {
     "data": {
      "text/html": [
       "<div>\n",
       "<style scoped>\n",
       "    .dataframe tbody tr th:only-of-type {\n",
       "        vertical-align: middle;\n",
       "    }\n",
       "\n",
       "    .dataframe tbody tr th {\n",
       "        vertical-align: top;\n",
       "    }\n",
       "\n",
       "    .dataframe thead th {\n",
       "        text-align: right;\n",
       "    }\n",
       "</style>\n",
       "<table border=\"1\" class=\"dataframe\">\n",
       "  <thead>\n",
       "    <tr style=\"text-align: right;\">\n",
       "      <th></th>\n",
       "      <th>0</th>\n",
       "      <th>text</th>\n",
       "      <th>polarity</th>\n",
       "      <th>subjectivity</th>\n",
       "      <th>sentiment</th>\n",
       "      <th>neg</th>\n",
       "      <th>neu</th>\n",
       "      <th>pos</th>\n",
       "      <th>compound</th>\n",
       "    </tr>\n",
       "  </thead>\n",
       "  <tbody>\n",
       "    <tr>\n",
       "      <th>0</th>\n",
       "      <td>RT @WayneDupreeShow: Sorry it’s -40 degrees ou...</td>\n",
       "      <td>sorry it s  40 degrees outside  but you can t...</td>\n",
       "      <td>-0.250000</td>\n",
       "      <td>0.525000</td>\n",
       "      <td>negative</td>\n",
       "      <td>0.071</td>\n",
       "      <td>0.929</td>\n",
       "      <td>0.000</td>\n",
       "      <td>-0.0387</td>\n",
       "    </tr>\n",
       "    <tr>\n",
       "      <th>1</th>\n",
       "      <td>RT @Blazespage: So, most of you know we're 100...</td>\n",
       "      <td>so  most of you know we re 100  off grid here...</td>\n",
       "      <td>0.500000</td>\n",
       "      <td>0.500000</td>\n",
       "      <td>positive</td>\n",
       "      <td>0.000</td>\n",
       "      <td>0.902</td>\n",
       "      <td>0.098</td>\n",
       "      <td>0.3612</td>\n",
       "    </tr>\n",
       "    <tr>\n",
       "      <th>2</th>\n",
       "      <td>RT @NIOAdmirer: Germany's EnBW, which invests ...</td>\n",
       "      <td>germany s enbw  which invests more than 100 m...</td>\n",
       "      <td>0.500000</td>\n",
       "      <td>0.500000</td>\n",
       "      <td>neutral</td>\n",
       "      <td>0.000</td>\n",
       "      <td>1.000</td>\n",
       "      <td>0.000</td>\n",
       "      <td>0.0000</td>\n",
       "    </tr>\n",
       "    <tr>\n",
       "      <th>4</th>\n",
       "      <td>@uneed2calmdown @elonmusk @SenatorSinema oh yo...</td>\n",
       "      <td>oh you hate the electric car man now tha...</td>\n",
       "      <td>-0.800000</td>\n",
       "      <td>0.900000</td>\n",
       "      <td>negative</td>\n",
       "      <td>0.285</td>\n",
       "      <td>0.715</td>\n",
       "      <td>0.000</td>\n",
       "      <td>-0.5823</td>\n",
       "    </tr>\n",
       "    <tr>\n",
       "      <th>5</th>\n",
       "      <td>1st Commercially Available Electric, Autonomou...</td>\n",
       "      <td>1st commercially available electric  autonomou...</td>\n",
       "      <td>0.338095</td>\n",
       "      <td>0.580952</td>\n",
       "      <td>positive</td>\n",
       "      <td>0.000</td>\n",
       "      <td>0.828</td>\n",
       "      <td>0.172</td>\n",
       "      <td>0.4019</td>\n",
       "    </tr>\n",
       "    <tr>\n",
       "      <th>6</th>\n",
       "      <td>The cold already takes half the battery life. ...</td>\n",
       "      <td>the cold already takes half the battery life  ...</td>\n",
       "      <td>-0.307407</td>\n",
       "      <td>0.485185</td>\n",
       "      <td>positive</td>\n",
       "      <td>0.000</td>\n",
       "      <td>0.909</td>\n",
       "      <td>0.091</td>\n",
       "      <td>0.2732</td>\n",
       "    </tr>\n",
       "    <tr>\n",
       "      <th>7</th>\n",
       "      <td>@elonmusk @Cernovich @annecollier @eirliani @p...</td>\n",
       "      <td>lesley is tesla gonna design an elec...</td>\n",
       "      <td>0.000000</td>\n",
       "      <td>0.000000</td>\n",
       "      <td>neutral</td>\n",
       "      <td>0.000</td>\n",
       "      <td>1.000</td>\n",
       "      <td>0.000</td>\n",
       "      <td>0.0000</td>\n",
       "    </tr>\n",
       "    <tr>\n",
       "      <th>8</th>\n",
       "      <td>RT @kos_data: Thursday in Balkans:\\n\\n🇽🇰 incre...</td>\n",
       "      <td>thursday in balkans      increase police forc...</td>\n",
       "      <td>-0.100000</td>\n",
       "      <td>0.100000</td>\n",
       "      <td>positive</td>\n",
       "      <td>0.000</td>\n",
       "      <td>0.881</td>\n",
       "      <td>0.119</td>\n",
       "      <td>0.3182</td>\n",
       "    </tr>\n",
       "    <tr>\n",
       "      <th>9</th>\n",
       "      <td>RT @TheFestiveOwl: GIVEAWAY — @Electric_Forest...</td>\n",
       "      <td>giveaway     forest reveals 2023 lineup      ...</td>\n",
       "      <td>0.500000</td>\n",
       "      <td>0.500000</td>\n",
       "      <td>positive</td>\n",
       "      <td>0.000</td>\n",
       "      <td>0.846</td>\n",
       "      <td>0.154</td>\n",
       "      <td>0.2500</td>\n",
       "    </tr>\n",
       "    <tr>\n",
       "      <th>12</th>\n",
       "      <td>RT @Uh_ohhhhhhh: #原神 ＃空荧 ＃aelumi \\n\"It's ugly ...</td>\n",
       "      <td>aelumi   it s ugly for a man to sit ...</td>\n",
       "      <td>-0.350000</td>\n",
       "      <td>0.500000</td>\n",
       "      <td>negative</td>\n",
       "      <td>0.202</td>\n",
       "      <td>0.798</td>\n",
       "      <td>0.000</td>\n",
       "      <td>-0.5106</td>\n",
       "    </tr>\n",
       "  </tbody>\n",
       "</table>\n",
       "</div>"
      ],
      "text/plain": [
       "                                                    0  \\\n",
       "0   RT @WayneDupreeShow: Sorry it’s -40 degrees ou...   \n",
       "1   RT @Blazespage: So, most of you know we're 100...   \n",
       "2   RT @NIOAdmirer: Germany's EnBW, which invests ...   \n",
       "4   @uneed2calmdown @elonmusk @SenatorSinema oh yo...   \n",
       "5   1st Commercially Available Electric, Autonomou...   \n",
       "6   The cold already takes half the battery life. ...   \n",
       "7   @elonmusk @Cernovich @annecollier @eirliani @p...   \n",
       "8   RT @kos_data: Thursday in Balkans:\\n\\n🇽🇰 incre...   \n",
       "9   RT @TheFestiveOwl: GIVEAWAY — @Electric_Forest...   \n",
       "12  RT @Uh_ohhhhhhh: #原神 ＃空荧 ＃aelumi \\n\"It's ugly ...   \n",
       "\n",
       "                                                 text  polarity  subjectivity  \\\n",
       "0    sorry it s  40 degrees outside  but you can t... -0.250000      0.525000   \n",
       "1    so  most of you know we re 100  off grid here...  0.500000      0.500000   \n",
       "2    germany s enbw  which invests more than 100 m...  0.500000      0.500000   \n",
       "4         oh you hate the electric car man now tha... -0.800000      0.900000   \n",
       "5   1st commercially available electric  autonomou...  0.338095      0.580952   \n",
       "6   the cold already takes half the battery life  ... -0.307407      0.485185   \n",
       "7             lesley is tesla gonna design an elec...  0.000000      0.000000   \n",
       "8    thursday in balkans      increase police forc... -0.100000      0.100000   \n",
       "9    giveaway     forest reveals 2023 lineup      ...  0.500000      0.500000   \n",
       "12            aelumi   it s ugly for a man to sit ... -0.350000      0.500000   \n",
       "\n",
       "   sentiment    neg    neu    pos  compound  \n",
       "0   negative  0.071  0.929  0.000   -0.0387  \n",
       "1   positive  0.000  0.902  0.098    0.3612  \n",
       "2    neutral  0.000  1.000  0.000    0.0000  \n",
       "4   negative  0.285  0.715  0.000   -0.5823  \n",
       "5   positive  0.000  0.828  0.172    0.4019  \n",
       "6   positive  0.000  0.909  0.091    0.2732  \n",
       "7    neutral  0.000  1.000  0.000    0.0000  \n",
       "8   positive  0.000  0.881  0.119    0.3182  \n",
       "9   positive  0.000  0.846  0.154    0.2500  \n",
       "12  negative  0.202  0.798  0.000   -0.5106  "
      ]
     },
     "execution_count": 49,
     "metadata": {},
     "output_type": "execute_result"
    }
   ],
   "source": [
    "#Calculating Negative, Positive, Neutral and Compound values\n",
    "\n",
    "tw_list[['polarity', 'subjectivity']] = tw_list['text'].apply(lambda Text: pd.Series(TextBlob(Text).sentiment))\n",
    "for index, row in tw_list['text'].iteritems():\n",
    "    score = SentimentIntensityAnalyzer().polarity_scores(row)\n",
    "    neg = score['neg']\n",
    "    neu = score['neu']\n",
    "    pos = score['pos']\n",
    "    comp = score['compound']\n",
    "    if neg > pos:\n",
    "        tw_list.loc[index, 'sentiment'] = \"negative\"\n",
    "    elif pos > neg:\n",
    "        tw_list.loc[index, 'sentiment'] = \"positive\"\n",
    "    else:\n",
    "        tw_list.loc[index, 'sentiment'] = \"neutral\"\n",
    "    tw_list.loc[index, 'neg'] = neg\n",
    "    tw_list.loc[index, 'neu'] = neu\n",
    "    tw_list.loc[index, 'pos'] = pos\n",
    "    tw_list.loc[index, 'compound'] = comp\n",
    "\n",
    "tw_list.head(10)\n"
   ]
  },
  {
   "cell_type": "code",
   "execution_count": 51,
   "id": "874fe038",
   "metadata": {},
   "outputs": [],
   "source": [
    "\n",
    "#Creating new data frames for all sentiments (positive, negative and neutral)\n",
    "\n",
    "tw_list_negative = tw_list[tw_list[\"sentiment\"]==\"negative\"]\n",
    "tw_list_positive = tw_list[tw_list[\"sentiment\"]==\"positive\"]\n",
    "tw_list_neutral = tw_list[tw_list[\"sentiment\"]==\"neutral\"]"
   ]
  },
  {
   "cell_type": "code",
   "execution_count": 52,
   "id": "b0847e8c",
   "metadata": {},
   "outputs": [],
   "source": [
    "\n",
    "#Function for count_values_in single columns\n",
    "\n",
    "def count_values_in_column(data,feature):\n",
    "    total=data.loc[:,feature].value_counts(dropna=False)\n",
    "    percentage=round(data.loc[:,feature].value_counts(dropna=False,normalize=True)*100,2)\n",
    "    return pd.concat([total,percentage],axis=1,keys=['Total','Percentage'])\n"
   ]
  },
  {
   "cell_type": "code",
   "execution_count": 53,
   "id": "7313820e",
   "metadata": {},
   "outputs": [
    {
     "data": {
      "text/html": [
       "<div>\n",
       "<style scoped>\n",
       "    .dataframe tbody tr th:only-of-type {\n",
       "        vertical-align: middle;\n",
       "    }\n",
       "\n",
       "    .dataframe tbody tr th {\n",
       "        vertical-align: top;\n",
       "    }\n",
       "\n",
       "    .dataframe thead th {\n",
       "        text-align: right;\n",
       "    }\n",
       "</style>\n",
       "<table border=\"1\" class=\"dataframe\">\n",
       "  <thead>\n",
       "    <tr style=\"text-align: right;\">\n",
       "      <th></th>\n",
       "      <th>Total</th>\n",
       "      <th>Percentage</th>\n",
       "    </tr>\n",
       "  </thead>\n",
       "  <tbody>\n",
       "    <tr>\n",
       "      <th>positive</th>\n",
       "      <td>488</td>\n",
       "      <td>40.63</td>\n",
       "    </tr>\n",
       "    <tr>\n",
       "      <th>neutral</th>\n",
       "      <td>487</td>\n",
       "      <td>40.55</td>\n",
       "    </tr>\n",
       "    <tr>\n",
       "      <th>negative</th>\n",
       "      <td>226</td>\n",
       "      <td>18.82</td>\n",
       "    </tr>\n",
       "  </tbody>\n",
       "</table>\n",
       "</div>"
      ],
      "text/plain": [
       "          Total  Percentage\n",
       "positive    488       40.63\n",
       "neutral     487       40.55\n",
       "negative    226       18.82"
      ]
     },
     "execution_count": 53,
     "metadata": {},
     "output_type": "execute_result"
    }
   ],
   "source": [
    "\n",
    "#Count_values for sentiment\n",
    "count_values_in_column(tw_list,\"sentiment\")"
   ]
  },
  {
   "cell_type": "code",
   "execution_count": 66,
   "id": "89dbeffb",
   "metadata": {},
   "outputs": [
    {
     "ename": "NameError",
     "evalue": "name 'pc' is not defined",
     "output_type": "error",
     "traceback": [
      "\u001b[0;31m---------------------------------------------------------------------------\u001b[0m",
      "\u001b[0;31mNameError\u001b[0m                                 Traceback (most recent call last)",
      "Input \u001b[0;32mIn [66]\u001b[0m, in \u001b[0;36m<cell line: 3>\u001b[0;34m()\u001b[0m\n\u001b[1;32m      1\u001b[0m \u001b[38;5;66;03m# create data for Pie Chart\u001b[39;00m\n\u001b[1;32m      2\u001b[0m pichart \u001b[38;5;241m=\u001b[39m count_values_in_column(tw_list,\u001b[38;5;124m\"\u001b[39m\u001b[38;5;124msentiment\u001b[39m\u001b[38;5;124m\"\u001b[39m)\n\u001b[0;32m----> 3\u001b[0m names\u001b[38;5;241m=\u001b[39m \u001b[43mpc\u001b[49m\u001b[38;5;241m.\u001b[39mindex\n\u001b[1;32m      4\u001b[0m size\u001b[38;5;241m=\u001b[39m pc[\u001b[38;5;124m\"\u001b[39m\u001b[38;5;124mPercentage\u001b[39m\u001b[38;5;124m\"\u001b[39m]\n\u001b[1;32m      6\u001b[0m \u001b[38;5;66;03m# Create a circle for the center of the plot\u001b[39;00m\n",
      "\u001b[0;31mNameError\u001b[0m: name 'pc' is not defined"
     ]
    }
   ],
   "source": [
    "\n",
    "\n",
    "# create data for Pie Chart\n",
    "pichart = count_values_in_column(tw_list,\"sentiment\")\n",
    "names= pc.index\n",
    "size= pc[\"Percentage\"]\n",
    " \n",
    "# Create a circle for the center of the plot\n",
    "my_circle=plt.Circle( (0,0), 0.7, color='white')\n",
    "plt.pie(size, labels=names, colors=['green','blue','red'])\n",
    "p=plt.gcf()\n",
    "p.gca().add_artist(my_circle)\n",
    "plt.show()\n"
   ]
  },
  {
   "cell_type": "code",
   "execution_count": 61,
   "id": "fd1aa04e",
   "metadata": {},
   "outputs": [],
   "source": [
    "#Function to Create Wordcloud\n",
    "\n",
    "def create_wordcloud(text):\n",
    "    mask = np.array(Image.open(\"\"))\n",
    "    stopwords = set(STOPWORDS)\n",
    "    wc = WordCloud(background_color=\"white\",\n",
    "                  mask = mask,\n",
    "                  max_words=3000,\n",
    "                  stopwords=stopwords,\n",
    "                  repeat=True)\n",
    "    wc.generate(str(text))\n",
    "    wc.to_file(\"wc.png\")\n",
    "    print(\"Word Cloud Saved Successfully\")\n",
    "    path=\"wc.png\"\n",
    "    display(Image.open(path))"
   ]
  },
  {
   "cell_type": "code",
   "execution_count": 63,
   "id": "996c9986",
   "metadata": {},
   "outputs": [
    {
     "ename": "AttributeError",
     "evalue": "'str' object has no attribute 'read'",
     "output_type": "error",
     "traceback": [
      "\u001b[0;31m---------------------------------------------------------------------------\u001b[0m",
      "\u001b[0;31mAttributeError\u001b[0m                            Traceback (most recent call last)",
      "File \u001b[0;32m~/opt/anaconda3/lib/python3.9/site-packages/PIL/Image.py:2957\u001b[0m, in \u001b[0;36mopen\u001b[0;34m(fp, mode, formats)\u001b[0m\n\u001b[1;32m   2956\u001b[0m \u001b[38;5;28;01mtry\u001b[39;00m:\n\u001b[0;32m-> 2957\u001b[0m     \u001b[43mfp\u001b[49m\u001b[38;5;241;43m.\u001b[39;49m\u001b[43mseek\u001b[49m(\u001b[38;5;241m0\u001b[39m)\n\u001b[1;32m   2958\u001b[0m \u001b[38;5;28;01mexcept\u001b[39;00m (\u001b[38;5;167;01mAttributeError\u001b[39;00m, io\u001b[38;5;241m.\u001b[39mUnsupportedOperation):\n",
      "\u001b[0;31mAttributeError\u001b[0m: 'str' object has no attribute 'seek'",
      "\nDuring handling of the above exception, another exception occurred:\n",
      "\u001b[0;31mAttributeError\u001b[0m                            Traceback (most recent call last)",
      "Input \u001b[0;32mIn [63]\u001b[0m, in \u001b[0;36m<cell line: 2>\u001b[0;34m()\u001b[0m\n\u001b[1;32m      1\u001b[0m \u001b[38;5;66;03m#Creating wordcloud for all tweets\u001b[39;00m\n\u001b[0;32m----> 2\u001b[0m \u001b[43mcreate_wordcloud\u001b[49m\u001b[43m(\u001b[49m\u001b[43mtw_list\u001b[49m\u001b[43m[\u001b[49m\u001b[38;5;124;43m\"\u001b[39;49m\u001b[38;5;124;43mtext\u001b[39;49m\u001b[38;5;124;43m\"\u001b[39;49m\u001b[43m]\u001b[49m\u001b[38;5;241;43m.\u001b[39;49m\u001b[43mvalues\u001b[49m\u001b[43m)\u001b[49m\n",
      "Input \u001b[0;32mIn [61]\u001b[0m, in \u001b[0;36mcreate_wordcloud\u001b[0;34m(text)\u001b[0m\n\u001b[1;32m      3\u001b[0m \u001b[38;5;28;01mdef\u001b[39;00m \u001b[38;5;21mcreate_wordcloud\u001b[39m(text):\n\u001b[0;32m----> 4\u001b[0m     mask \u001b[38;5;241m=\u001b[39m np\u001b[38;5;241m.\u001b[39marray(\u001b[43mImage\u001b[49m\u001b[38;5;241;43m.\u001b[39;49m\u001b[43mopen\u001b[49m\u001b[43m(\u001b[49m\u001b[38;5;124;43m\"\u001b[39;49m\u001b[38;5;124;43m\"\u001b[39;49m\u001b[43m)\u001b[49m)\n\u001b[1;32m      5\u001b[0m     stopwords \u001b[38;5;241m=\u001b[39m \u001b[38;5;28mset\u001b[39m(STOPWORDS)\n\u001b[1;32m      6\u001b[0m     wc \u001b[38;5;241m=\u001b[39m WordCloud(background_color\u001b[38;5;241m=\u001b[39m\u001b[38;5;124m\"\u001b[39m\u001b[38;5;124mwhite\u001b[39m\u001b[38;5;124m\"\u001b[39m,\n\u001b[1;32m      7\u001b[0m                   mask \u001b[38;5;241m=\u001b[39m mask,\n\u001b[1;32m      8\u001b[0m                   max_words\u001b[38;5;241m=\u001b[39m\u001b[38;5;241m3000\u001b[39m,\n\u001b[1;32m      9\u001b[0m                   stopwords\u001b[38;5;241m=\u001b[39mstopwords,\n\u001b[1;32m     10\u001b[0m                   repeat\u001b[38;5;241m=\u001b[39m\u001b[38;5;28;01mTrue\u001b[39;00m)\n",
      "File \u001b[0;32m~/opt/anaconda3/lib/python3.9/site-packages/PIL/Image.py:2959\u001b[0m, in \u001b[0;36mopen\u001b[0;34m(fp, mode, formats)\u001b[0m\n\u001b[1;32m   2957\u001b[0m     fp\u001b[38;5;241m.\u001b[39mseek(\u001b[38;5;241m0\u001b[39m)\n\u001b[1;32m   2958\u001b[0m \u001b[38;5;28;01mexcept\u001b[39;00m (\u001b[38;5;167;01mAttributeError\u001b[39;00m, io\u001b[38;5;241m.\u001b[39mUnsupportedOperation):\n\u001b[0;32m-> 2959\u001b[0m     fp \u001b[38;5;241m=\u001b[39m io\u001b[38;5;241m.\u001b[39mBytesIO(\u001b[43mfp\u001b[49m\u001b[38;5;241;43m.\u001b[39;49m\u001b[43mread\u001b[49m())\n\u001b[1;32m   2960\u001b[0m     exclusive_fp \u001b[38;5;241m=\u001b[39m \u001b[38;5;28;01mTrue\u001b[39;00m\n\u001b[1;32m   2962\u001b[0m prefix \u001b[38;5;241m=\u001b[39m fp\u001b[38;5;241m.\u001b[39mread(\u001b[38;5;241m16\u001b[39m)\n",
      "\u001b[0;31mAttributeError\u001b[0m: 'str' object has no attribute 'read'"
     ]
    }
   ],
   "source": [
    "#Creating wordcloud for all tweets\n",
    "create_wordcloud(tw_list[\"text\"].values)"
   ]
  }
 ],
 "metadata": {
  "kernelspec": {
   "display_name": "Python 3 (ipykernel)",
   "language": "python",
   "name": "python3"
  },
  "language_info": {
   "codemirror_mode": {
    "name": "ipython",
    "version": 3
   },
   "file_extension": ".py",
   "mimetype": "text/x-python",
   "name": "python",
   "nbconvert_exporter": "python",
   "pygments_lexer": "ipython3",
   "version": "3.9.12"
  }
 },
 "nbformat": 4,
 "nbformat_minor": 5
}
